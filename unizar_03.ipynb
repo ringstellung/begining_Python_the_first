{
 "cells": [
  {
   "cell_type": "markdown",
   "id": "7cdbb45b-5414-4b7f-8245-46e4e3a6ec4b",
   "metadata": {},
   "source": [
    "# Curso Elemental de Python: Cuaderno 03"
   ]
  },
  {
   "cell_type": "markdown",
   "id": "875c10dc-7e83-43fd-8b9c-f814e8290f36",
   "metadata": {},
   "source": [
    "## Lo básico de las funciones"
   ]
  },
  {
   "cell_type": "markdown",
   "id": "9c112067-64b9-4422-af56-12fe2af2d650",
   "metadata": {},
   "source": [
    "Cuando pensamos que un retazo de código que opera sobre valores puede ser utilizado para ser aplicado a muchos de ellos y de forma ocasional, debemos hacer con ese código una **función**. Como ejemplo considérese que estamos averiguando la letra asociada al DNI de clientes. Esa operación es muy simple de ejecutar si conocemos la permutación que el gobierno fijó al efecto; dicha permutación es 'TRWAGMYFPDXBNJZSQVHLCKE', que tiene longitud igual a 23.\n",
    "\n",
    "La letra se obtiene dividiendo el número del DNI por 23, quedándose con el resto de esa división y encontrando la letra en la permutación que ocupa la posición que denota el resto."
   ]
  },
  {
   "cell_type": "code",
   "execution_count": null,
   "id": "99d14fb2-d94a-4f5e-a6c6-54d82352336f",
   "metadata": {},
   "outputs": [],
   "source": [
    "n = 24125175; n"
   ]
  },
  {
   "cell_type": "code",
   "execution_count": null,
   "id": "db848c4c-9427-4faf-ba0b-93238ca1d556",
   "metadata": {},
   "outputs": [],
   "source": [
    "r = n % 23; r"
   ]
  },
  {
   "cell_type": "code",
   "execution_count": null,
   "id": "2f1e644a-48f0-449a-9845-2abe98bacb69",
   "metadata": {},
   "outputs": [],
   "source": [
    "'TRWAGMYFPDXBNJZSQVHLCKE'[r]"
   ]
  },
  {
   "cell_type": "code",
   "execution_count": null,
   "id": "7756aa40-917b-4837-b83b-3565709adacb",
   "metadata": {},
   "outputs": [],
   "source": [
    "m = 24175125"
   ]
  },
  {
   "cell_type": "code",
   "execution_count": null,
   "id": "387e6f9e-b63d-4ee9-b6d1-14ec5e05ed23",
   "metadata": {},
   "outputs": [],
   "source": [
    "r = m % 23"
   ]
  },
  {
   "cell_type": "code",
   "execution_count": null,
   "id": "3ff067df-96bd-4862-84f8-cc98a30a6ef7",
   "metadata": {},
   "outputs": [],
   "source": [
    "'TRWAGMYFPDXBNJZSQVHLCKE'[r]"
   ]
  },
  {
   "cell_type": "markdown",
   "id": "a54a3d71-ea64-4abf-9eb1-c9b88b17fd17",
   "metadata": {},
   "source": [
    "Esta operación podría ser repetida muchas veces a lo largo del día, por lo que merece la pena definir una función. Esa función recibirá como parámetro el número del que necesitamos calcular la letra asociada; a ese parámetro le llamamos argumento y no tiene por qué ser uno sólo."
   ]
  },
  {
   "cell_type": "code",
   "execution_count": null,
   "id": "f110c37b-9ad3-4793-9ef0-f598a1139244",
   "metadata": {},
   "outputs": [],
   "source": [
    "def letraDNI (n):\n",
    "    return 'TRWAGMYFPDXBNJZSQVHLCKE'[n % 23]"
   ]
  },
  {
   "cell_type": "code",
   "execution_count": null,
   "id": "410d745b-c222-4b98-bf2d-647d6c2898e2",
   "metadata": {},
   "outputs": [],
   "source": [
    "letraDNI(24125175)"
   ]
  },
  {
   "cell_type": "code",
   "execution_count": null,
   "id": "365b3781-e95d-4947-8424-a7e08be4e709",
   "metadata": {},
   "outputs": [],
   "source": [
    "letraDNI(24175125)"
   ]
  },
  {
   "cell_type": "markdown",
   "id": "b368d838-8cab-43e1-9ea8-a40f174a11ff",
   "metadata": {},
   "source": [
    "No todas las ternas de números determinan un triángulo, pues en un triángulo la suma de las longitudes de cualesquiera dos lados debe superar al tercero. Es muy fácil determinar si una terna de números representa a un triángulo; para ello basta ordenar la terna y decidir si la suma de los dos primeros supera estrictamente al último de la lista, que es el mayor de todos.\n",
    "\n",
    "Implementaremos la \"función\" ternaria `es_triangulo(x,y,z)`que nos permite saber si sus tres argumentos determinan un triángulo o no."
   ]
  },
  {
   "cell_type": "code",
   "execution_count": null,
   "id": "c9c9dd21-dbb2-4c84-b8d5-84e335e42352",
   "metadata": {},
   "outputs": [],
   "source": [
    "def es_triangulo(a,b,c):\n",
    "    lst = [a,b,c]\n",
    "    lst.sort()\n",
    "    maximum = lst.pop()\n",
    "    return sum(lst) > maximum"
   ]
  },
  {
   "cell_type": "code",
   "execution_count": null,
   "id": "29fae20e-cacd-4116-9d78-19e41cdd644f",
   "metadata": {},
   "outputs": [],
   "source": [
    "es_triangulo(1,2,3) # la terna (1,2,3) NO determina un triángulo"
   ]
  },
  {
   "cell_type": "code",
   "execution_count": null,
   "id": "e19e413b-0a49-45db-aaa2-c96ffdde7128",
   "metadata": {},
   "outputs": [],
   "source": [
    "es_triangulo (2,2,3) # la terna (2,2,3) SÍ determina un triángulo"
   ]
  },
  {
   "cell_type": "markdown",
   "id": "6f074daa-f446-4aa0-8d05-9bb862e5c4b8",
   "metadata": {},
   "source": [
    "La siguiente función calcula el signo de un número dado. En ella podemos observar que aparace la palabra return más de una vez, aunque para cada número dado exactamente uno de los return será visitado. Este tipo de código aún siendo válido puede ser más confuso a la hora de repasarlo o darlo a estudiar a otro usuario."
   ]
  },
  {
   "cell_type": "code",
   "execution_count": null,
   "id": "cb22e5ec-a753-450e-a83b-e8cb6c196c13",
   "metadata": {},
   "outputs": [],
   "source": [
    "def signo(n:int) -> int:\n",
    "    if n == 0:\n",
    "        # s = 0\n",
    "        return 0\n",
    "    elif n > 0:\n",
    "        # s = 1\n",
    "        return 1\n",
    "    else:\n",
    "        # s = -1\n",
    "        return -1\n",
    "    # return s "
   ]
  },
  {
   "cell_type": "markdown",
   "id": "1533ac60-0718-48f9-885f-8304d6ad8bba",
   "metadata": {},
   "source": [
    "En la definición de las funciones pueden ser indicados valores por defecto."
   ]
  },
  {
   "cell_type": "code",
   "execution_count": null,
   "id": "912fc036-d18e-4f69-8510-7f033056d2f6",
   "metadata": {},
   "outputs": [],
   "source": [
    "def f(a,b=0,c=0):\n",
    "    return 2 * a + b - c"
   ]
  },
  {
   "cell_type": "code",
   "execution_count": null,
   "id": "ab2f8342-e73a-4283-804b-68b68fc0002b",
   "metadata": {},
   "outputs": [],
   "source": [
    "f(5,3,2)"
   ]
  },
  {
   "cell_type": "code",
   "execution_count": null,
   "id": "de8c94c6-d69f-4082-9703-4bb89121bdb1",
   "metadata": {},
   "outputs": [],
   "source": [
    "f(**dicc)"
   ]
  },
  {
   "cell_type": "code",
   "execution_count": null,
   "id": "451c91ef-7971-48f9-aa0c-3d63bc41f396",
   "metadata": {},
   "outputs": [],
   "source": [
    "f(5,3)"
   ]
  },
  {
   "cell_type": "code",
   "execution_count": null,
   "id": "26710f67-1574-4e10-a03f-44314a215aaa",
   "metadata": {},
   "outputs": [],
   "source": [
    "f(5)"
   ]
  },
  {
   "cell_type": "markdown",
   "id": "da68df6d-7adf-45d2-9bad-562cf1856ad5",
   "metadata": {},
   "source": [
    "Es posible dar empaquetados los argumentos de la función con lo que nuestro código podría ganar mucho dinamismo."
   ]
  },
  {
   "cell_type": "code",
   "execution_count": null,
   "id": "0b53de19-58ca-41f2-90b0-db7bdba6a7f7",
   "metadata": {},
   "outputs": [],
   "source": [
    "f(*[5,3,2])"
   ]
  },
  {
   "cell_type": "code",
   "execution_count": null,
   "id": "b1fca19c-92f2-4702-a85e-015e1d3b7718",
   "metadata": {},
   "outputs": [],
   "source": [
    "f(**{'a':5,'b':3,'c':2})"
   ]
  },
  {
   "cell_type": "markdown",
   "id": "393d1b0f-1526-4e76-bd6b-28c48b09585e",
   "metadata": {},
   "source": [
    "Es posible diseñar funciones que son 0-arias, es decir, representan constantes."
   ]
  },
  {
   "cell_type": "code",
   "execution_count": null,
   "id": "cadf16cf-b40c-440a-8a4d-aa883ab10017",
   "metadata": {},
   "outputs": [],
   "source": [
    "def f_sin():\n",
    "    return 2**4"
   ]
  },
  {
   "cell_type": "code",
   "execution_count": null,
   "id": "e82ecaa1-bd37-40b0-aaee-f22af8654363",
   "metadata": {},
   "outputs": [],
   "source": [
    "f_sin()"
   ]
  },
  {
   "cell_type": "markdown",
   "id": "295ca902-9a5b-4107-a0bd-e84cb51c018e",
   "metadata": {},
   "source": [
    "## Funciones *lambda*"
   ]
  },
  {
   "cell_type": "markdown",
   "id": "d47a187c-1363-4e90-b09c-a13d194d69ff",
   "metadata": {},
   "source": [
    "Es posible definir funciones anónimas. En ellas no damos ninguna relevancia al nombre, centrándonos sólo en su regla definitoria la cual es imprescindible en esta modalidad de definición."
   ]
  },
  {
   "cell_type": "code",
   "execution_count": null,
   "id": "0b3e8f53-d8cb-44d4-bd2c-a376a0bdc1d6",
   "metadata": {},
   "outputs": [],
   "source": [
    "def cdrr(x):\n",
    "    return x**2"
   ]
  },
  {
   "cell_type": "code",
   "execution_count": null,
   "id": "38b67b97-6175-443a-a728-830bcfe474dc",
   "metadata": {},
   "outputs": [],
   "source": [
    "cuadrar = lambda x: x**2"
   ]
  },
  {
   "cell_type": "code",
   "execution_count": null,
   "id": "4cc18894-e00f-457d-b2f5-b8542be2f740",
   "metadata": {},
   "outputs": [],
   "source": [
    "cuadrar (5)"
   ]
  },
  {
   "cell_type": "code",
   "execution_count": null,
   "id": "6d737c1c-af4c-4898-83a3-0d7d275a07f0",
   "metadata": {},
   "outputs": [],
   "source": [
    "test = lambda x, y: x**2 > y"
   ]
  },
  {
   "cell_type": "code",
   "execution_count": null,
   "id": "17722df2-7fa6-4828-bd98-ed4ec326d734",
   "metadata": {},
   "outputs": [],
   "source": [
    "test (3,10)"
   ]
  },
  {
   "cell_type": "code",
   "execution_count": null,
   "id": "4dcae371-5d1f-40b4-8a01-d38749b0eec8",
   "metadata": {},
   "outputs": [],
   "source": [
    "test (3,8)"
   ]
  },
  {
   "cell_type": "code",
   "execution_count": null,
   "id": "d93efcf3-3ce8-468e-9c6d-741b735a15b6",
   "metadata": {},
   "outputs": [],
   "source": [
    "rng = range(9)"
   ]
  },
  {
   "cell_type": "code",
   "execution_count": null,
   "id": "9bf1e366-5c26-45f3-a3a3-d982839851b6",
   "metadata": {},
   "outputs": [],
   "source": [
    "fltr = filter (lambda x: x % 3 == 2,rng)"
   ]
  },
  {
   "cell_type": "code",
   "execution_count": null,
   "id": "c309422d-ec33-41fe-893d-8ea1c91e9a48",
   "metadata": {},
   "outputs": [],
   "source": [
    "2 in fltr"
   ]
  },
  {
   "cell_type": "code",
   "execution_count": null,
   "id": "8077e07f-f08f-49cb-9446-9a3504127c63",
   "metadata": {},
   "outputs": [],
   "source": [
    "3 in fltr"
   ]
  },
  {
   "cell_type": "code",
   "execution_count": null,
   "id": "ef1e7952-5d33-499b-92d0-965c7dc2c2d0",
   "metadata": {},
   "outputs": [],
   "source": [
    "fltr = filter (lambda x: x % 3 == 2,rng)"
   ]
  },
  {
   "cell_type": "code",
   "execution_count": null,
   "id": "6d056dc4-fecd-4264-bfca-2350b5bc6c72",
   "metadata": {},
   "outputs": [],
   "source": [
    "list(fltr)"
   ]
  },
  {
   "cell_type": "markdown",
   "id": "01605994-e4fd-41a9-b5c9-d9889a43603b",
   "metadata": {},
   "source": [
    "## Funciones que generan"
   ]
  },
  {
   "cell_type": "markdown",
   "id": "69ea8799-d5d8-4126-a0e6-9455771e7586",
   "metadata": {},
   "source": [
    "Las funciones pueden producir algo que no es finito"
   ]
  },
  {
   "cell_type": "code",
   "execution_count": null,
   "id": "4d018225-e19d-4a40-a3d5-4faa2d094514",
   "metadata": {},
   "outputs": [],
   "source": [
    "def generaNumerosImpares(i):\n",
    "    for x in range(1, i, 2):\n",
    "       yield x"
   ]
  },
  {
   "cell_type": "code",
   "execution_count": null,
   "id": "f7046aed-ef06-45ee-a204-3b2ae3006193",
   "metadata": {},
   "outputs": [],
   "source": [
    "generaNumerosImpares(6)"
   ]
  },
  {
   "cell_type": "code",
   "execution_count": null,
   "id": "7d532be3-9062-413d-896d-4d7acf2f3e56",
   "metadata": {},
   "outputs": [],
   "source": [
    "impares = generaNumerosImpares(6)"
   ]
  },
  {
   "cell_type": "code",
   "execution_count": null,
   "id": "3c38cf87-f89e-4f1f-a73f-5410997f1075",
   "metadata": {},
   "outputs": [],
   "source": [
    "next(impares)"
   ]
  },
  {
   "cell_type": "code",
   "execution_count": null,
   "id": "5529ddd8-e875-4267-957e-c60bcedeec42",
   "metadata": {},
   "outputs": [],
   "source": [
    "next(impares)"
   ]
  },
  {
   "cell_type": "code",
   "execution_count": null,
   "id": "5f162a94-ce53-47ad-ba7c-8305846b84a3",
   "metadata": {},
   "outputs": [],
   "source": [
    "next(impares)"
   ]
  },
  {
   "cell_type": "code",
   "execution_count": null,
   "id": "df0e0c91-0be2-472f-9784-5c925b25d07e",
   "metadata": {},
   "outputs": [],
   "source": [
    "next(impares)"
   ]
  },
  {
   "cell_type": "markdown",
   "id": "cfebb1e4-e55f-4a02-b6c0-9080d1ec850b",
   "metadata": {},
   "source": [
    "Podemos construir los números de Fibonacci, que como sabemos están en cantidad numerable NO finita."
   ]
  },
  {
   "cell_type": "code",
   "execution_count": null,
   "id": "c4002e34-d973-4da1-80cb-697d28faf426",
   "metadata": {},
   "outputs": [],
   "source": [
    "def fib(x=0,y=1):\n",
    "    \"\"\"\n",
    "        fib() genera al completo la sucesión de Fibonacci\n",
    "    \"\"\"\n",
    "    a, b = x, y\n",
    "    while True:\n",
    "        yield a\n",
    "        a, b = b, a + b"
   ]
  },
  {
   "cell_type": "code",
   "execution_count": null,
   "id": "6d89c943-e90a-4617-8777-a0c16ab48327",
   "metadata": {},
   "outputs": [],
   "source": [
    "f=fib()"
   ]
  },
  {
   "cell_type": "code",
   "execution_count": null,
   "id": "34e3447f-f690-4871-b589-98265225e54d",
   "metadata": {},
   "outputs": [],
   "source": [
    "next(f)"
   ]
  },
  {
   "cell_type": "code",
   "execution_count": null,
   "id": "45c865b9-fb44-495c-a2f8-abdca0c76291",
   "metadata": {},
   "outputs": [],
   "source": [
    "def sIFib(n):\n",
    "    \"\"\"\n",
    "        sIFib(n) proporciona el segmento inicial de la sucesión de fibonacci\n",
    "        de longitud n+1\n",
    "    \"\"\"\n",
    "    salida, sf = [], fib()\n",
    "    while n >= 0:\n",
    "        salida.append(next(sf))\n",
    "        n -= 1\n",
    "    return salida"
   ]
  },
  {
   "cell_type": "code",
   "execution_count": null,
   "id": "1f761bd0-1a76-4cec-8933-636c0ef6c3b4",
   "metadata": {},
   "outputs": [],
   "source": [
    "sIFib(5)"
   ]
  },
  {
   "cell_type": "markdown",
   "id": "421c2c0f-14eb-4b9d-81e1-162dd7e87bdf",
   "metadata": {},
   "source": [
    "## Funciones sin un `return` pero que producen algo"
   ]
  },
  {
   "cell_type": "markdown",
   "id": "483459ec-aaa5-4293-afc2-7281a3813570",
   "metadata": {},
   "source": [
    "\n",
    "Finalmente en un código algo más elaborado veremos que el código de una función puede no tener el return en su estructura. En estos casos producirá algo, por ejemplo un fichero, que quedará almacenado en la estructura de directorios de nuestro ordenador."
   ]
  },
  {
   "cell_type": "markdown",
   "id": "261a7c2a-011f-495b-bfba-f86b5ee5bfed",
   "metadata": {},
   "source": [
    "En el siguiente ejemplo usaremos la librería `request` de Python y supone un modesto ejemplo de lo que llamamos \"web scraping\"."
   ]
  },
  {
   "cell_type": "code",
   "execution_count": null,
   "id": "36b75917-5fb0-4e6b-ab94-24355b4c45f7",
   "metadata": {},
   "outputs": [],
   "source": [
    "import requests"
   ]
  },
  {
   "cell_type": "code",
   "execution_count": null,
   "id": "d58d5d9a-05ea-44ac-847d-525b69021250",
   "metadata": {},
   "outputs": [],
   "source": [
    "def search_word_in_url(word,url,output_file):\n",
    "    r = requests.get(url)\n",
    "    with open(output_file,'w',encoding='utf8') as f:\n",
    "        for line in r.text.split('\\n'):\n",
    "            if word in line:\n",
    "                f.write(''.join([line.strip(),'\\n']))"
   ]
  },
  {
   "cell_type": "markdown",
   "id": "a008f42d-2f72-44a0-a4b8-53891575e277",
   "metadata": {},
   "source": [
    "A modo de ejemplo, supongamos que para un posterior estudio nos interesa guardar en el fichero \"search.txt\" las líneas del código de la página web:\n",
    "\n",
    "https://www.time.gov\n",
    "\n",
    "que contengan al menos una vez la palabra \"UTC\"."
   ]
  },
  {
   "cell_type": "code",
   "execution_count": null,
   "id": "ebc57efe-855b-43e2-85b4-931ae6a6a43a",
   "metadata": {},
   "outputs": [],
   "source": [
    "w = 'UTC'\n",
    "u = 'https://www.time.gov'\n",
    "of = 'search.txt'"
   ]
  },
  {
   "cell_type": "code",
   "execution_count": null,
   "id": "0df4fbf3-6397-4073-94d1-e0ed164aad05",
   "metadata": {},
   "outputs": [],
   "source": [
    "search_word_in_url(w,u,of)"
   ]
  },
  {
   "cell_type": "markdown",
   "id": "e0d9022a-c748-4109-9027-0cf692ceb4eb",
   "metadata": {},
   "source": [
    "## Funciones Sin Argumentos"
   ]
  },
  {
   "cell_type": "markdown",
   "id": "cf4fd24b-f094-4efb-ad94-58cb29bfbcb0",
   "metadata": {},
   "source": [
    "El objetivo de este ejemplo es encontrar el primer número natural $m$ tal que $100^{m}$ es menor que $m!$."
   ]
  },
  {
   "cell_type": "code",
   "execution_count": null,
   "id": "cf3ec1ec-a0e9-4a03-a824-a0c4ac1cc52f",
   "metadata": {},
   "outputs": [],
   "source": [
    "from math import log, factorial"
   ]
  },
  {
   "cell_type": "code",
   "execution_count": null,
   "id": "8b03a80c-7bfe-4cb5-a098-31c23f9ad137",
   "metadata": {},
   "outputs": [],
   "source": [
    "def detector():\n",
    "    i, x, y, z = 0, 0, 1, 0\n",
    "    while x >= z:\n",
    "        i += 1\n",
    "        x = i << 1 # log(100,10) == 2.0\n",
    "        y *= i\n",
    "        z = log(y,10)\n",
    "    return i"
   ]
  },
  {
   "cell_type": "code",
   "execution_count": null,
   "id": "9d4c1afa-a19c-4155-982a-930aa8f1046a",
   "metadata": {},
   "outputs": [],
   "source": [
    "detector()"
   ]
  },
  {
   "cell_type": "markdown",
   "id": "1a11bac1-781d-4d5f-8b2b-3e0325c90433",
   "metadata": {},
   "source": [
    "Hagamos la comprobación:"
   ]
  },
  {
   "cell_type": "code",
   "execution_count": null,
   "id": "899b868e-cc3d-4fcd-8470-34e3881cfe5e",
   "metadata": {},
   "outputs": [],
   "source": [
    "u = 100**268"
   ]
  },
  {
   "cell_type": "code",
   "execution_count": null,
   "id": "a8094577-98a1-480f-a98f-04d74682fc89",
   "metadata": {},
   "outputs": [],
   "source": [
    "v = factorial(268)"
   ]
  },
  {
   "cell_type": "code",
   "execution_count": null,
   "id": "51fe3eb2-439f-4084-b612-01fd7859c4b9",
   "metadata": {},
   "outputs": [],
   "source": [
    "u - v >= 0"
   ]
  },
  {
   "cell_type": "code",
   "execution_count": null,
   "id": "c18d7a7b-27db-4e08-ada3-d580d7de8dbc",
   "metadata": {},
   "outputs": [],
   "source": [
    "u - v"
   ]
  },
  {
   "cell_type": "code",
   "execution_count": null,
   "id": "a862933a-2bbd-4f71-855c-4442bf65230e",
   "metadata": {},
   "outputs": [],
   "source": [
    "m = 100**269"
   ]
  },
  {
   "cell_type": "code",
   "execution_count": null,
   "id": "91f585b2-3911-438d-beed-79fdcb203b69",
   "metadata": {},
   "outputs": [],
   "source": [
    "n = factorial(269)"
   ]
  },
  {
   "cell_type": "code",
   "execution_count": null,
   "id": "858d65a4-740e-44ef-8f6d-19b7621cabbb",
   "metadata": {},
   "outputs": [],
   "source": [
    "m - n >= 0"
   ]
  },
  {
   "cell_type": "code",
   "execution_count": null,
   "id": "d7f6961a-dcad-4d31-98b1-ddd5ae959c91",
   "metadata": {},
   "outputs": [],
   "source": [
    "m - n"
   ]
  },
  {
   "cell_type": "markdown",
   "id": "6d7263b1-accb-41bf-a96f-74f235ba67fe",
   "metadata": {},
   "source": [
    "## Ejercicios"
   ]
  },
  {
   "cell_type": "markdown",
   "id": "25dc4dcc-ed3b-42c4-b316-2d19598cc270",
   "metadata": {},
   "source": [
    "1. Dé una función que genere al completo la sucesión de Fibonacci y otra que genere sólo un segmento finito de la misma.\n",
    "1. Defina una función que simule el comportamiento de la función \"factorial\" del módulo \"math\"\n",
    "1. Dé una función que a un hito temporal (día, mes y año) asigne el día de la semana que le corresponde según el [calendario Gregoriano](https://es.wikipedia.org/wiki/Congruencia_de_Zeller). Repita lo mismo pero para el [calendario Juliano](https://es.wikipedia.org/wiki/Congruencia_de_Zeller).\n",
    "1. Escriba una función que tome como valores los días de la semana y responda `True` cuando, y sólo cuando, sea un día hábil.\n",
    "1. Escriba una función que sea capaz de discernir si un año dado como argumento es [bisiesto](https://es.wikipedia.org/wiki/A%C3%B1o_bisiesto) o no.\n",
    "1. Escriba una función que tenga por argumentos dos listas y suprima de la primera los elementos que aparezcan en la segunda al menos una vez."
   ]
  },
  {
   "cell_type": "markdown",
   "id": "79fb98ee-91b4-490e-92bf-f9cc03d4ef22",
   "metadata": {},
   "source": [
    "## Tres Ejemplos a Modo de Reto \"Motivador\""
   ]
  },
  {
   "cell_type": "markdown",
   "id": "07bb3160-07a6-4418-8c7f-917fc23f696b",
   "metadata": {},
   "source": [
    "Explíquese el código de las siguientes funciones."
   ]
  },
  {
   "cell_type": "markdown",
   "id": "de8b7cef-2ddb-4557-98fc-1ca47cead338",
   "metadata": {},
   "source": [
    "Ejemplo número **uno**:"
   ]
  },
  {
   "cell_type": "code",
   "execution_count": null,
   "id": "c2ef236b-ab92-4204-b93f-997b10baff50",
   "metadata": {},
   "outputs": [],
   "source": [
    "lsgn = lambda x: x and (1,-1)[x<0]"
   ]
  },
  {
   "cell_type": "code",
   "execution_count": null,
   "id": "e403ed42-6d99-4153-b33c-69444627c4ae",
   "metadata": {},
   "outputs": [],
   "source": [
    "lsgn(0)"
   ]
  },
  {
   "cell_type": "code",
   "execution_count": null,
   "id": "7b094bcc-3d91-4123-9b75-96c2b99e0b83",
   "metadata": {},
   "outputs": [],
   "source": [
    "lsgn(5)"
   ]
  },
  {
   "cell_type": "code",
   "execution_count": null,
   "id": "ea2f8355-6384-4fce-b940-f437492f7498",
   "metadata": {},
   "outputs": [],
   "source": [
    "lsgn(-5)"
   ]
  },
  {
   "cell_type": "markdown",
   "id": "a6c8b555-3ca5-4e83-abf1-c90431b50df8",
   "metadata": {},
   "source": [
    "Ejemplo número **dos**:"
   ]
  },
  {
   "cell_type": "code",
   "execution_count": null,
   "id": "4aefb5de-0066-4d47-b682-b65e35a154bb",
   "metadata": {},
   "outputs": [],
   "source": [
    "def ppnd (lst:list,mst:list) -> list:\n",
    "    return [*lst,*mst]"
   ]
  },
  {
   "cell_type": "code",
   "execution_count": null,
   "id": "3510efc6-7a9a-4303-ba1a-1af005b17ab7",
   "metadata": {},
   "outputs": [],
   "source": [
    "lst_1 = ['a','b','c']"
   ]
  },
  {
   "cell_type": "code",
   "execution_count": null,
   "id": "5caca587-4d7b-434a-a23f-c404e72080b5",
   "metadata": {},
   "outputs": [],
   "source": [
    "lst_2 = [2,1,0]"
   ]
  },
  {
   "cell_type": "code",
   "execution_count": null,
   "id": "7f838aca-8bb9-416b-8921-9e72bfff85ec",
   "metadata": {},
   "outputs": [],
   "source": [
    "ppnd(lst_1,lst_2)"
   ]
  },
  {
   "cell_type": "markdown",
   "id": "3269bf89-e42e-409b-9601-04b95fd69248",
   "metadata": {},
   "source": [
    "La versión de `ppnd` para cadena de caracteres es la siguiente:"
   ]
  },
  {
   "cell_type": "code",
   "execution_count": null,
   "id": "726f13fe-6750-4413-8c36-1dd18f329b05",
   "metadata": {},
   "outputs": [],
   "source": [
    "def ppnds (lst:str,mst:str) -> str:\n",
    "    return ''.join(ppnd(lst,mst))"
   ]
  },
  {
   "cell_type": "code",
   "execution_count": null,
   "id": "211ebd68-d349-4f63-94d4-dc1e818c3b46",
   "metadata": {},
   "outputs": [],
   "source": [
    "strng_1 = 'la verdad real es tan increible'"
   ]
  },
  {
   "cell_type": "code",
   "execution_count": null,
   "id": "eecb8b4c-5113-43df-9491-f12dedb5e6fe",
   "metadata": {},
   "outputs": [],
   "source": [
    "strng_2 = ' que se desacredita a sí misma'"
   ]
  },
  {
   "cell_type": "code",
   "execution_count": null,
   "id": "44b34ff0-2db6-4c2d-8108-c5220a54071a",
   "metadata": {},
   "outputs": [],
   "source": [
    "ppnds(strng_1,strng_2)"
   ]
  },
  {
   "cell_type": "markdown",
   "id": "81cdf582-ca2c-46fb-a9cf-e95f5a13a6d9",
   "metadata": {},
   "source": [
    "Ejemplo número **tres** (dictado por D. Lefteris Karapetsas, en X (antes Twitter) @LefterisJP de @rotkiapp):"
   ]
  },
  {
   "cell_type": "code",
   "execution_count": null,
   "id": "86a6ff8b-7ff6-4079-8289-dbfe75b48808",
   "metadata": {},
   "outputs": [],
   "source": [
    "def prng (lst):\n",
    "    return list(zip(*[iter(lst)]*2))"
   ]
  },
  {
   "cell_type": "markdown",
   "id": "372153ea-98f3-4f0c-834e-9c4d476e727a",
   "metadata": {},
   "source": [
    "*Sugerencia*: observe que actúa primero el asterisco violeta en el retazo de código definitorio de `prng` (el de `...]*2...`) y luego el verde (el de `...p(*[...`). Observe también que  `iter(lst)` convierte la lista `lst` en un iterador."
   ]
  },
  {
   "cell_type": "code",
   "execution_count": null,
   "id": "3f077f3f-1bde-4707-b7c3-05fc796335cc",
   "metadata": {},
   "outputs": [],
   "source": [
    "mst = [1,'a',2,'b',3,'c']"
   ]
  },
  {
   "cell_type": "code",
   "execution_count": null,
   "id": "f6487b36-963f-4a5e-a061-1e8346a4dd14",
   "metadata": {},
   "outputs": [],
   "source": [
    "prng(mst)"
   ]
  },
  {
   "cell_type": "markdown",
   "id": "6aa0f6fc-a2dc-463e-97fe-f47ca0ec17df",
   "metadata": {},
   "source": [
    "*Directriz*: No se puede comprender Python 3 sin comprender el concepto de \"iterador\". Consulte y haga pruebas."
   ]
  },
  {
   "cell_type": "markdown",
   "id": "223d275e-e894-47d3-8732-03b340e726b6",
   "metadata": {},
   "source": [
    "Ejemplo número **cuatro**: Python NO tiene la (propiedad de la) transparencia referencial"
   ]
  },
  {
   "cell_type": "code",
   "execution_count": null,
   "id": "9237bd31-8853-493c-916e-138af891ddf2",
   "metadata": {},
   "outputs": [],
   "source": [
    "counter = 0\n",
    "\n",
    "def incremental(n):\n",
    "    global counter\n",
    "    i = 0\n",
    "    while i <= n:\n",
    "        counter += 1\n",
    "        i += 1\n",
    "    print(counter)"
   ]
  },
  {
   "cell_type": "code",
   "execution_count": null,
   "id": "26ac5f4b-1944-4799-aa10-fb3217a96141",
   "metadata": {},
   "outputs": [],
   "source": [
    "incremental(5)"
   ]
  },
  {
   "cell_type": "code",
   "execution_count": null,
   "id": "4017e96a-0fdf-4c1d-b667-86e4cddf2256",
   "metadata": {},
   "outputs": [],
   "source": [
    "incremental(5)"
   ]
  }
 ],
 "metadata": {
  "kernelspec": {
   "display_name": "Python 3 (ipykernel)",
   "language": "python",
   "name": "python3"
  },
  "language_info": {
   "codemirror_mode": {
    "name": "ipython",
    "version": 3
   },
   "file_extension": ".py",
   "mimetype": "text/x-python",
   "name": "python",
   "nbconvert_exporter": "python",
   "pygments_lexer": "ipython3",
   "version": "3.9.12"
  }
 },
 "nbformat": 4,
 "nbformat_minor": 5
}
