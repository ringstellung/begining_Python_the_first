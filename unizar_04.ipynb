{
 "cells": [
  {
   "cell_type": "markdown",
   "id": "d9f3e2a2-c24a-49d6-94fd-5ac9cae59c2a",
   "metadata": {},
   "source": [
    "# Curso Elemental de Python: Cuaderno 04"
   ]
  },
  {
   "cell_type": "markdown",
   "id": "030259f7-ca92-4855-bf3d-79e5a20a0230",
   "metadata": {},
   "source": [
    "## Teoría sobre la POO"
   ]
  },
  {
   "cell_type": "markdown",
   "id": "067b15d0-100d-48f6-96d6-67583e92bf00",
   "metadata": {},
   "source": [
    "La programación orientada a objetos (POO u OOP, por sus siglas en inglés) es un concepto de paradigma de programación que se basa en “objetos” u entes idealizados definidos en clases, las cuales contendrán datos y código que manipula esos datos. Cuando usábamos la palabra \"idealizados\" queríamos sugerir que de la naturaleza de los objetos por nuestros intereses momentáneos hemos apartado una cantidad finita de sus rasgos, para manipularlos en lo que ellos permitan.\n",
    "\n",
    "La POO puede ser comprendida con el símil de una \"burocratización\" fuertemente reglada de la programación para ordenar el acceso y la obtención de información sobre los conceptos (objetos) inherentes a la clase.\n",
    "\n",
    "La nomemclatura clave es la siguiente:\n",
    "\n",
    "* **Clase**; una clase es un modelo para crear objetos, definir sus atributos (datos) y métodos (funciones). Encapsula los datos y el comportamiento relacionados y proporciona una estructura bien reglada con la que trabajar. Es el diseño burocrático para ordenar las funcionalidades.\n",
    "* **Objetos**; son instancias de una clase, \"seres\" bien sujetos a lo que define la clase y diferenciados por característica regladas (atributos) en ámbito posible determinado por la clase. Se crean según el modelo de la clase y pueden tener sus propios datos y comportamientos únicos. Al usar objetos, podemos crear múltiples instancias que compartan los mismos atributos y métodos definidos en la clase.\n",
    "* **Herencia**; es la propiedad del lenguaje de crear nuevos datos a partir de los ya existentes (progenitores). Supone la transferencia de las características de una clase a otras clases que son derivadas de ella, heredando sus atributos y métodos. A veces podemos sobrescribirlos para adaptarlos a la clase heredera (clase descendiente):\n",
    "\n",
    "    * La herencia es el mecanismo de reutilización de código por excelencia dentro de la POO (Programación Orientada a Objetos por sus siglas en español).\n",
    "    * Sirve para particularizar, mejorar desde cierto punto de vista, determinadas clases en otras nuevas. \n",
    "    * Las clases padre/madre siguen vigentes, por lo que no es necesario retocar el código que ya funcionaba; tan sólo se trata de reutilizarlo.\n",
    "\n",
    "* **Encapsulación**;se refiere a la agrupación de datos y métodos dentro de una clase. Nos permite controlar el acceso a los miembros de la clase, haciéndolos privados o públicos. Este principio mejora la seguridad de los datos, mantiene la integridad del código y reduce las dependencias.\n",
    "* **Polimorfismo**; es la capacidad de los objetos de adoptar muchas formas. Nos permite definir métodos en diferentes clases con el mismo nombre pero con diferentes implementaciones. El polimorfismo promueve la flexibilidad del código, ya que los objetos se pueden usar indistintamente incluso si pertenecen a diferentes clases.\n",
    "* **Abstracción**; se centra en proporcionar interfaces simplificadas y, al mismo tiempo, ocultar implementaciones subyacentes complejas. Al definir clases y métodos abstractos, podemos imponer un comportamiento coherente en todas las subclases y, al mismo tiempo, permitir que se desarrollen implementaciones específicas por separado.\n",
    "\n",
    "Al aprovechar estos conceptos de programación orientada a objetos, los desarrolladores de Python pueden escribir código modular, reutilizable y escalable. Ya sea que esté creando aplicaciones web, herramientas de análisis de datos o incluso proyectos de desarrollo de juegos, la programación orientada a objetos en Python será su fiel compañero."
   ]
  },
  {
   "cell_type": "markdown",
   "id": "6d0d8150-ff82-46ab-bb3f-2cd187cadae0",
   "metadata": {},
   "source": [
    "Una clase es un molde para crear objetos (una estructura de datos particular), proporcionar valores iniciales para el estado (variables miembro o atributos) e implementar comportamientos (funciones miembro o métodos). Una clase también puede definir variables y métodos de clase, que son compartidos por todas las instancias de la clase."
   ]
  },
  {
   "cell_type": "code",
   "execution_count": null,
   "id": "ba7856da-0b27-4e02-960e-8faf06bf6c97",
   "metadata": {},
   "outputs": [],
   "source": [
    "class Empleado(object):\n",
    "    \"\"\"Clase base para todos los empleados\"\"\"\n",
    "    _empContador = 0\n",
    "    def __init__(self, nombre, salario):\n",
    "        self.nombre = nombre\n",
    "        self.salario = salario\n",
    "        Empleado._empContador += 1    \n",
    "    def _presentaContador(self):\n",
    "         print('Orden del empleado {0}'.format(Empleado._empContador))\n",
    "    def presentaEmpleado(self):\n",
    "         print('Nombre: {0}, Salario: {1}'.format(self.nombre,self.salario))"
   ]
  },
  {
   "cell_type": "markdown",
   "id": "fd04fa68-af6f-4cb4-9a9e-e2321efee1cc",
   "metadata": {},
   "source": [
    "Es posible interactuar de muchas formas con la clase `Empleado`; veamos ejemplos."
   ]
  },
  {
   "cell_type": "code",
   "execution_count": null,
   "id": "86189ec4-c1b3-4e08-8ff3-1c73cd7e904b",
   "metadata": {},
   "outputs": [],
   "source": [
    "e = Empleado('Hilaria Torres Orellana',2000)"
   ]
  },
  {
   "cell_type": "code",
   "execution_count": null,
   "id": "cae2bbc1-2309-41d1-a9f1-2f266ae2a00e",
   "metadata": {},
   "outputs": [],
   "source": [
    "e.presentaEmpleado()"
   ]
  },
  {
   "cell_type": "code",
   "execution_count": null,
   "id": "00e43655-6056-4bd9-8f64-b29c089ca1a6",
   "metadata": {},
   "outputs": [],
   "source": [
    "e._presentaContador()"
   ]
  },
  {
   "cell_type": "markdown",
   "id": "230e6e71-61c5-4fb2-9886-5d9171b6ea8a",
   "metadata": {},
   "source": [
    "En lugar de usar las sentencias normales para los atributos podemos interactuar con los siguientes métodos: \n",
    "* `getattr(obj, nombre[, default])`: para acceder al atributo del objeto.\n",
    "* `hasattr(obj,nombre)`: comprueba si el atributo name existe o no, devolviendo True si, y sólo si, existe.\n",
    "* `setattr(obj,nombre,valor)`: da al atributo nombre el valor valor y si no existe, lo crea previamente.\n",
    "* `delattr(obj, nombre)`: borra el atributo nombre"
   ]
  },
  {
   "cell_type": "code",
   "execution_count": null,
   "id": "dee848a1-b832-4301-a568-267bd3dfbd2e",
   "metadata": {},
   "outputs": [],
   "source": [
    "f = Empleado('Rodrígo de Alba Espinar',1328)"
   ]
  },
  {
   "cell_type": "code",
   "execution_count": null,
   "id": "0e1dc35b-4e19-4b85-bf28-55819864aca3",
   "metadata": {},
   "outputs": [],
   "source": [
    "getattr(f,'nombre')"
   ]
  },
  {
   "cell_type": "code",
   "execution_count": null,
   "id": "01cad97d-8975-4121-8673-abaf0027a407",
   "metadata": {},
   "outputs": [],
   "source": [
    "getattr(f,'salario')"
   ]
  },
  {
   "cell_type": "code",
   "execution_count": null,
   "id": "334ce03c-39a3-4dd3-8c98-2e9b889ca7be",
   "metadata": {},
   "outputs": [],
   "source": [
    "setattr(f,'nombre','Víctor Hurtado Mendoza')"
   ]
  },
  {
   "cell_type": "code",
   "execution_count": null,
   "id": "edd11074-0c48-46d1-9a59-3ef19dfe0877",
   "metadata": {},
   "outputs": [],
   "source": [
    "f.nombre"
   ]
  },
  {
   "cell_type": "code",
   "execution_count": null,
   "id": "1e6adeb9-21f9-4d23-8834-40e69549d24a",
   "metadata": {},
   "outputs": [],
   "source": [
    "delattr(f,'salario')"
   ]
  },
  {
   "cell_type": "code",
   "execution_count": null,
   "id": "4a1747a4-8cfe-4420-a8c8-2bd47a36aa8e",
   "metadata": {},
   "outputs": [],
   "source": [
    "f.salario"
   ]
  },
  {
   "cell_type": "code",
   "execution_count": null,
   "id": "c8f02c30-ee54-4c7e-a084-dc17034411c5",
   "metadata": {},
   "outputs": [],
   "source": [
    "setattr(f,'domicilio','Avd. Suspiro Verde, nº 28')"
   ]
  },
  {
   "cell_type": "code",
   "execution_count": null,
   "id": "9481429b-18eb-4400-bdf0-f5a30bcf9b3a",
   "metadata": {},
   "outputs": [],
   "source": [
    "f.domicilio"
   ]
  },
  {
   "cell_type": "markdown",
   "id": "0e94ec29-315c-414a-a959-3f9078d47c51",
   "metadata": {},
   "source": [
    "## Encapsulación"
   ]
  },
  {
   "cell_type": "markdown",
   "id": "4152c6dd-f8f7-4f80-b39b-272aacda34a9",
   "metadata": {},
   "source": [
    "La encapsulación es un concepto fundamental en la programación orientada a objetos que se refiere a la práctica de ocultar los detalles de implementación interna de un objeto a otras partes del programa. Esto se logra definiendo métodos y variables de clase como privados y proporcionando métodos públicos para interactuar con ellos.\n",
    "\n",
    "En Python, la encapsulación se logra mediante el uso del  _ prefijo para las variables miembro y los métodos. Por ejemplo, si tenemos una  Person clase:"
   ]
  },
  {
   "cell_type": "code",
   "execution_count": null,
   "id": "a3b4cbb2-d4a8-40b5-a128-3d881fe724c7",
   "metadata": {},
   "outputs": [],
   "source": [
    "class Person:\n",
    "    def __init__(self, name, age):\n",
    "        self._name = name\n",
    "        self._age = age\n",
    "\n",
    "    def _get_age(self):\n",
    "        return self._age"
   ]
  },
  {
   "cell_type": "markdown",
   "id": "af2bcc00-30b5-4792-b531-9277a2c81e10",
   "metadata": {},
   "source": [
    "Aquí, los  atributos `_name` y  `_age` se consideran privados y el  `_get_age()` método también lo es. Estos deben usarse solo dentro de la clase y no deben ser accedidos ni modificados directamente por código externo a la clase.\n",
    "\n",
    "En lugar de ello, proporcionaríamos métodos públicos para interactuar con estas variables y métodos privados, de la siguiente manera:\n"
   ]
  },
  {
   "cell_type": "code",
   "execution_count": null,
   "id": "a61d9a4e-7304-49f6-a471-d5d298a9c149",
   "metadata": {},
   "outputs": [],
   "source": [
    "class PersonNew:\n",
    "    def __init__(self, name, age):\n",
    "        self._name = name\n",
    "        self._age = age\n",
    "\n",
    "    def _get_age(self):\n",
    "        return self._age\n",
    "\n",
    "    def get_age(self):\n",
    "        return self._get_age()"
   ]
  },
  {
   "cell_type": "markdown",
   "id": "2e789107-9859-4e6b-a6dc-f32d007a25f5",
   "metadata": {},
   "source": [
    "Aquí `get_age` es un método público."
   ]
  },
  {
   "cell_type": "markdown",
   "id": "1d46d4e4-8cac-41c6-b29d-5e4e899a6a9d",
   "metadata": {},
   "source": [
    "La encapsulación tiene varias ventajas en Python:\n",
    "\n",
    "1. Permite la modularidad del código, lo que facilita el cambio y el mantenimiento de la base del código.\n",
    "1. Asegura que el estado interno de un objeto sólo se modifique de forma controlada, lo que ayuda a prevenir errores y mantener la consistencia.\n",
    "1. Hace que el código sea más robusto y seguro ya que es más difícil para otras partes del programa cambiar accidental o maliciosamente el estado interno de un objeto.\n",
    "1. Hace que el código sea más flexible ya que se puede cambiar la implementación interna sin afectar el código que usa la clase.\n",
    "\n",
    "Sin embargo, es importante tener en cuenta que, en Python, la encapsulación no la impone el intérprete y depende de que el programador no acceda directamente a las variables o métodos privados. Es más bien una convención y una forma de indicar a los demás que estos métodos o atributos están destinados a ser utilizados únicamente por la clase.\n"
   ]
  },
  {
   "cell_type": "markdown",
   "id": "15c9c35f-e2d5-417d-ab3f-2bf0f97bfdc9",
   "metadata": {},
   "source": [
    "## Polimorfismo"
   ]
  },
  {
   "cell_type": "markdown",
   "id": "5f09b77d-9b7d-4e70-9723-e60d1f59f080",
   "metadata": {},
   "source": [
    "El polimorfismo es un concepto fundamental en la programación orientada a objetos que permite que los objetos de diferentes clases se traten como objetos de una clase común. En otras palabras, permite que un objeto adopte muchas formas. Esto puede hacer que el código sea más flexible y reutilizable.\n",
    "\n",
    "En los conceptos de programación orientada a objetos de Python, el polimorfismo se logra mediante funciones polimórficas, que son funciones que pueden trabajar con múltiples tipos de entrada. Por ejemplo, la  función `len()` puede ser utilizada para encontrar la longitud de una cadena, una lista u otros tipos de datos. Un ejemplo similar es `print()`."
   ]
  },
  {
   "cell_type": "code",
   "execution_count": null,
   "id": "46fdebed-0c5c-4634-9fdb-f3077fd487dc",
   "metadata": {},
   "outputs": [],
   "source": [
    "len ([0,1,2,3])"
   ]
  },
  {
   "cell_type": "code",
   "execution_count": null,
   "id": "c000467c-15e3-4449-88b9-7180885816eb",
   "metadata": {},
   "outputs": [],
   "source": [
    "len('el secreto se protege a sí mismo')"
   ]
  },
  {
   "cell_type": "code",
   "execution_count": null,
   "id": "693bdfa1-aef1-4701-9544-9276a659add0",
   "metadata": {},
   "outputs": [],
   "source": [
    "len({'lista':1,'cadena':2, 'diccionario':3})"
   ]
  },
  {
   "cell_type": "code",
   "execution_count": null,
   "id": "8b64cec4-e72f-4731-8707-70c384e228c7",
   "metadata": {},
   "outputs": [],
   "source": [
    "print('el secreto se protege ...\\n a sí mismo')"
   ]
  },
  {
   "cell_type": "code",
   "execution_count": null,
   "id": "d493f47e-de42-45a2-8f71-926855fb3aed",
   "metadata": {},
   "outputs": [],
   "source": [
    "print(10)"
   ]
  },
  {
   "cell_type": "markdown",
   "id": "323da8d6-cf0b-4c26-ac7c-d7bf63ed1fc2",
   "metadata": {},
   "source": [
    "La sobrecarga de métodos no es compatible con Python, pero podemos lograr el mismo comportamiento con métodos que toman diferentes argumentos y tienen un comportamiento diferente según el tipo de argumento. Al usar funciones polimórficas, anulación de métodos y sobrecarga de métodos, Python permite a los desarrolladores crear código más expresivo y eficiente."
   ]
  },
  {
   "cell_type": "markdown",
   "id": "e54766cf-7e26-438f-bc37-f84e435c17d7",
   "metadata": {},
   "source": [
    "Veremos ejemplos celdas más abajo en los ejemplos 7 y 8, donde han sido extendidos los conceptos de suma y resta, sobrecargando las operaciones `+` y `-`."
   ]
  },
  {
   "cell_type": "markdown",
   "id": "aa8427d6-29d1-4ae6-913a-93878b403a31",
   "metadata": {},
   "source": [
    "## Abstracción de Datos"
   ]
  },
  {
   "cell_type": "markdown",
   "id": "2b5233ae-acd3-4bf4-b217-ca15cf6e27d3",
   "metadata": {},
   "source": [
    "La abstracción de datos es un concepto fundamental en la programación orientada a objetos que se refiere a la práctica de ocultar los detalles de implementación de un objeto a otras partes del programa y proporcionar sólo una interfaz pública simplificada para interactuar con el objeto. Esto permite una separación entre la implementación de un objeto y la forma en que se utiliza, lo que hace que el código sea más modular y más fácil de mantener.\n",
    "\n",
    "En los conceptos de programación orientada a objetos de Python, la abstracción de datos se logra mediante el uso de clases e interfaces abstractas. Una clase abstracta es una clase que define uno o más métodos abstractos, que son métodos que no tienen implementación. Se requiere una subclase para implementar estos métodos antes de que se pueda crear una instancia de la clase.\n",
    "\n",
    "Por ejemplo:"
   ]
  },
  {
   "cell_type": "code",
   "execution_count": null,
   "id": "5e3cbd62-0c03-4cfa-a9ee-e6eab03d4f8a",
   "metadata": {},
   "outputs": [],
   "source": [
    "from abc import ABC, abstractmethod\n",
    "\n",
    "class Shape(ABC):\n",
    "    @abstractmethod\n",
    "    def area(self):\n",
    "        pass\n",
    "    @abstractmethod\n",
    "    def perimeter(self):\n",
    "        pass\n",
    "\n",
    "class Rectangle(Shape):\n",
    "    def __init__(self, width, height):\n",
    "        self.width = width\n",
    "        self.height = height\n",
    "    def area(self):\n",
    "        return self.width * self.height\n",
    "    def perimeter(self):\n",
    "        return 2 * (self.width + self.height)"
   ]
  },
  {
   "cell_type": "markdown",
   "id": "2b4eb73f-60b6-4012-959c-cc7ae002b9ad",
   "metadata": {},
   "source": [
    "Aquí, la clase `Shape` es una clase abstracta que tiene dos métodos abstractos, área y perímetro. La subclase  Rectangle implementa estos métodos antes de que se pueda crear una instancia de la clase.\n",
    "\n",
    "Una interfaz en Python es simplemente una clase abstracta sin implementaciones para ninguno de sus métodos. Python no tiene soporte integrado para interfaces, pero podemos usar ABC (clase base abstracta) del  abc módulo de Python como interfaz.\n",
    "\n",
    "Por ejemplo:"
   ]
  },
  {
   "cell_type": "code",
   "execution_count": null,
   "id": "27ccf031-2117-4e6c-92ec-15074133d172",
   "metadata": {},
   "outputs": [],
   "source": [
    "from abc import ABC\n",
    "\n",
    "class Myinterface(ABC):\n",
    "    @abstractmethod\n",
    "    def method1(self):\n",
    "        pass\n",
    "\n",
    "    @abstractmethod\n",
    "    def method2(self):\n",
    "        pass"
   ]
  },
  {
   "cell_type": "markdown",
   "id": "f6b434ad-89f2-44ac-a611-5f0621f1c428",
   "metadata": {},
   "source": [
    "Esta interfaz `Myinterface` tiene dos métodos abstractos: `method1` y `method2`. Cualquier clase que desee implementar esta interfaz debe implementar estos métodos.\n",
    "\n",
    "La abstracción de datos se puede utilizar para encapsular código complejo, ocultar detalles de implementación y hacer que el código sea más modular y fácil de mantener. Al utilizar clases e interfaces abstractas, los desarrolladores pueden crear código más expresivo y eficiente en Python."
   ]
  },
  {
   "cell_type": "markdown",
   "id": "d389afe2-c96e-4b82-926e-8cab6645ab75",
   "metadata": {},
   "source": [
    "## Explicaciones sobre guiones bajos y diferencias entre `_xx`, `xx_`,   `__xx` y `__xx__` en `Python`  "
   ]
  },
  {
   "cell_type": "markdown",
   "id": "fa76cbf6-5645-400e-94ad-fb3d1b606823",
   "metadata": {},
   "source": [
    "Están reconocidas las siguientes formas especiales con subrayado inicial y final que pasamos a explicar escuetamente:\n",
    "* `_subrayado_unico_inicial`: funciona como indicador de uso interno; el nombre que lo lleva debe ser tratado por el programador como privado. Quien usara el código (usted mismo) debe saber que cualquier método que comience por un único guión bajo ha de ser tratado como una parte no pública de la API; se considera un detalle de la implementación y sujeto a cambios sin previo aviso. A modo de ejemplo, la orden `from M import *` no importará objetos cuyo nombre comienza por un único (guión bajo de) subrayado.\n",
    "* `subrayado_unico_final_`: usado por convenio para evitar conflictos con palabras reservadas de `Python`.\n",
    "* `__doble_subrayado_inicial`: Python usa estos nombres para evitar conflictos con otros definidos por las subclases. Cuando se nombra un atributo de clase con al menos doble guión bajo al comienzo y a lo sumo un guión bajo al final, Python invoca ese nombre renombrándolo: dentro de la clase `FooBar`, `__boo` se convierte en `_FooBar__boo`.\n",
    "* `__doble_subrayado_inicial_y_final__`: son los objetos denominados “mágicos” y representan atributos que viven en el espacio de nombres controlado por el usuario; a modo de ejemplo: `__init__`, `__import__` o `__file__`. Por favor, no invente tales nombres; con ese patrón de guiones bajos, use sólo los documentados."
   ]
  },
  {
   "cell_type": "markdown",
   "id": "52cdbf25-f526-4de6-b9c5-124c154e6fe3",
   "metadata": {},
   "source": [
    "#### Ejemplo 0"
   ]
  },
  {
   "cell_type": "code",
   "execution_count": null,
   "id": "4bf4578e-8c4e-49f1-b133-d4b0d3e5941f",
   "metadata": {},
   "outputs": [],
   "source": [
    "class MiClase():\n",
    "    def __init__(self):\n",
    "        self.__superprivado = \"¡Hola\"\n",
    "        self._semiprivado = \"... mundo!\""
   ]
  },
  {
   "cell_type": "code",
   "execution_count": null,
   "id": "d0d1dcae-eb78-4a29-9b9b-585b275104cf",
   "metadata": {},
   "outputs": [],
   "source": [
    "mc = MiClase()"
   ]
  },
  {
   "cell_type": "markdown",
   "id": "eedcf631-b422-42be-bf82-b0f61cdee603",
   "metadata": {},
   "source": [
    "El acceso al método *semiprivado* requiere un esfuerzo."
   ]
  },
  {
   "cell_type": "code",
   "execution_count": null,
   "id": "dd4a7ec8-e590-4d3c-aa7f-e10e168744b7",
   "metadata": {},
   "outputs": [],
   "source": [
    "print(mc._semiprivado)"
   ]
  },
  {
   "cell_type": "markdown",
   "id": "df96a619-8f81-4918-8f38-393ce78c39b6",
   "metadata": {},
   "source": [
    "Pero acceder a un método *superprivado* requiere un plus."
   ]
  },
  {
   "cell_type": "code",
   "execution_count": null,
   "id": "d2f3ca36-49e7-4935-ab05-f3681e1240fb",
   "metadata": {},
   "outputs": [],
   "source": [
    "print(mc.__superprivado)"
   ]
  },
  {
   "cell_type": "markdown",
   "id": "dbc84f8c-4e05-4c9f-93e8-a9b95d782c99",
   "metadata": {},
   "source": [
    "lo cual es excelente para facilitar la implementación en la herencia"
   ]
  },
  {
   "cell_type": "code",
   "execution_count": null,
   "id": "f22a1ac9-856a-4fcc-b714-067239291952",
   "metadata": {},
   "outputs": [],
   "source": [
    "mc._MiClase__superprivado"
   ]
  },
  {
   "cell_type": "markdown",
   "id": "4e42b807-80b0-4d52-b124-df8b88ec164f",
   "metadata": {},
   "source": [
    "#### Ejemplo 1"
   ]
  },
  {
   "cell_type": "code",
   "execution_count": null,
   "id": "02bdc1a0-adb4-48b5-bc1d-24237d58c2e3",
   "metadata": {},
   "outputs": [],
   "source": [
    "class A(object):\n",
    "    def _internal_use(self):\n",
    "        print('_internal_use es semiprivado en A')\n",
    "    def __method_name(self):\n",
    "        print('__method_name es de uso privado en A')"
   ]
  },
  {
   "cell_type": "code",
   "execution_count": null,
   "id": "6ad8c02f-55b2-4467-8ca1-fbaab74e5bb2",
   "metadata": {},
   "outputs": [],
   "source": [
    "dir(A)"
   ]
  },
  {
   "cell_type": "code",
   "execution_count": null,
   "id": "aa2a4f54-2985-49a4-b069-1c2340240e90",
   "metadata": {},
   "outputs": [],
   "source": [
    "class B(A):\n",
    "    def __method_name(self):\n",
    "         print('__method_name es de uso privado en B')   "
   ]
  },
  {
   "cell_type": "code",
   "execution_count": null,
   "id": "1df34bbf-0c59-4dfa-9491-76a0cfd7d2bf",
   "metadata": {},
   "outputs": [],
   "source": [
    "b = B()"
   ]
  },
  {
   "cell_type": "markdown",
   "id": "0c8e636f-e0a0-488e-85ff-9fb454aa2dbe",
   "metadata": {},
   "source": [
    "Desde el código de la clase B es posible acceder a los métodos semiprivados implementados en el código de la clase A."
   ]
  },
  {
   "cell_type": "code",
   "execution_count": null,
   "id": "f6aa65f8-5e22-46e5-9b72-042c64347374",
   "metadata": {},
   "outputs": [],
   "source": [
    "b._internal_use()"
   ]
  },
  {
   "cell_type": "markdown",
   "id": "216504ca-efc7-4403-aa43-c215330630e1",
   "metadata": {},
   "source": [
    "y también es posible acceder desde la clase B a los métodos superprivados implementados en el código de la clase A, siempre y cuando se destaque es es de la clase A"
   ]
  },
  {
   "cell_type": "code",
   "execution_count": null,
   "id": "86be05e6-3699-4904-bd55-cf21ed07c1e4",
   "metadata": {},
   "outputs": [],
   "source": [
    "b._A__method_name()"
   ]
  },
  {
   "cell_type": "markdown",
   "id": "f893b347-6737-4271-b14b-8d51581a88ca",
   "metadata": {},
   "source": [
    "Observamos que gracias al doble guión bajo hemos podido implementar en el código de la clase B un método con idéntico nombre a otro implementado en la clase A, a saber, `__method_name`. Siempre que invoquemos los métodos superprivados será necesario, en la clase (con alguna excepción que veremos en Ejemplo 4) o en las que la heredan, destacar la clase de la implementación que reclamamos para usar."
   ]
  },
  {
   "cell_type": "code",
   "execution_count": null,
   "id": "ea41f098-cecd-48d7-91ff-d1bf919a0ccd",
   "metadata": {},
   "outputs": [],
   "source": [
    "b._B__method_name()"
   ]
  },
  {
   "cell_type": "markdown",
   "id": "1c131a9c-6d42-4375-8eb1-9e8541c4b530",
   "metadata": {},
   "source": [
    "#### Ejemplo 2"
   ]
  },
  {
   "cell_type": "markdown",
   "id": "d83c1f6f-ce86-4a2d-ade9-3dc5ba41875e",
   "metadata": {},
   "source": [
    "Para los entes superprivados es posible hacer funciones mostradoras; es el caso de `count` en el siguiente código."
   ]
  },
  {
   "cell_type": "code",
   "execution_count": null,
   "id": "dc9dbad9-3794-4b81-a4f7-3495b9a6514d",
   "metadata": {},
   "outputs": [],
   "source": [
    "class JustCounter:\n",
    "    __secretCount = 0\n",
    "    nonsecretCount = 4\n",
    "    def count(self):\n",
    "        self.__secretCount += 1\n",
    "        print (self.__secretCount)"
   ]
  },
  {
   "cell_type": "code",
   "execution_count": null,
   "id": "db7e1e17-3a51-47d1-a4f0-5d10df865658",
   "metadata": {},
   "outputs": [],
   "source": [
    "counter = JustCounter()"
   ]
  },
  {
   "cell_type": "code",
   "execution_count": null,
   "id": "8d8c0605-a1e7-453b-841c-d5f82bb34fde",
   "metadata": {},
   "outputs": [],
   "source": [
    "counter.__secretCount"
   ]
  },
  {
   "cell_type": "code",
   "execution_count": null,
   "id": "ad2d14d3-66c0-4d58-855c-1cf3758fa15b",
   "metadata": {},
   "outputs": [],
   "source": [
    "counter.count()"
   ]
  },
  {
   "cell_type": "code",
   "execution_count": null,
   "id": "eb75177e-5c3e-46a9-b131-fed92397b94c",
   "metadata": {},
   "outputs": [],
   "source": [
    "counter._JustCounter__secretCount"
   ]
  },
  {
   "cell_type": "markdown",
   "id": "4609fcc3-d385-4d7b-8371-3764608f5c92",
   "metadata": {},
   "source": [
    "Eso sí, los parámetros no secretos de la clase sólo serán accesibles por mediación de objetos de la clase. Es como si los beneficios de un club fuesen sólo para sus miembros o para los que tuviesen acceso a alguno de esos miembros."
   ]
  },
  {
   "cell_type": "code",
   "execution_count": null,
   "id": "368e7fc9-12ba-4bf3-8d4e-9c2461139d29",
   "metadata": {},
   "outputs": [],
   "source": [
    "counter.nonsecretCount"
   ]
  },
  {
   "cell_type": "markdown",
   "id": "8013fcd5-6b21-401c-bee0-4114f3f8e546",
   "metadata": {},
   "source": [
    "#### Ejemplo 3"
   ]
  },
  {
   "cell_type": "code",
   "execution_count": null,
   "id": "9036c902-265b-44ae-90ce-7875b6fdcf17",
   "metadata": {},
   "outputs": [],
   "source": [
    "class Test(object):\n",
    "    def __init__(self):\n",
    "        self.__a = 'a'\n",
    "        self._b = 'b'"
   ]
  },
  {
   "cell_type": "code",
   "execution_count": null,
   "id": "2803403b-d276-43f7-b6b3-a07a62995694",
   "metadata": {},
   "outputs": [],
   "source": [
    "t = Test()"
   ]
  },
  {
   "cell_type": "code",
   "execution_count": null,
   "id": "bf868c81-c84e-4f27-9eda-c2b39f6b324c",
   "metadata": {},
   "outputs": [],
   "source": [
    "t._b"
   ]
  },
  {
   "cell_type": "code",
   "execution_count": null,
   "id": "88146480-4a25-49bf-8ddf-21202559a38d",
   "metadata": {},
   "outputs": [],
   "source": [
    "t._Test__a"
   ]
  },
  {
   "cell_type": "markdown",
   "id": "d7bdb61f-5df0-4038-8480-2600df0790ff",
   "metadata": {},
   "source": [
    "#### Ejemplo 4"
   ]
  },
  {
   "cell_type": "code",
   "execution_count": null,
   "id": "49af6430-79c3-4fd5-a1b5-fdaaa905e42c",
   "metadata": {},
   "outputs": [],
   "source": [
    "class A(object):\n",
    "    def __test(self):\n",
    "        print(\"I'm test method in class A\")\n",
    "\n",
    "    def test(self):\n",
    "        self.__test()"
   ]
  },
  {
   "cell_type": "code",
   "execution_count": null,
   "id": "703e2d0c-62cf-44e9-92b8-ca06fb81126a",
   "metadata": {},
   "outputs": [],
   "source": [
    "a = A()"
   ]
  },
  {
   "cell_type": "markdown",
   "id": "67961526-0fab-4bf0-99a0-28f65ed839d6",
   "metadata": {},
   "source": [
    "En el código de `test`hemos puesto `self.__test()` y podríamos haber puesto en su lugar `self._A__test()` con el mismo resultado. Ésta es la excepción a la que nos referíamos."
   ]
  },
  {
   "cell_type": "code",
   "execution_count": null,
   "id": "991a59af-24b4-4562-a41b-78d29f1ab278",
   "metadata": {},
   "outputs": [],
   "source": [
    "a.test()"
   ]
  },
  {
   "cell_type": "code",
   "execution_count": null,
   "id": "e6c0bbc7-4f17-4a0d-964a-c2702087ea2b",
   "metadata": {},
   "outputs": [],
   "source": [
    "class B(A):\n",
    "    def __test(self):\n",
    "        print(\"I'm test method in class B\")"
   ]
  },
  {
   "cell_type": "code",
   "execution_count": null,
   "id": "e815a0ef-c52c-44f5-b0ab-a0bb2588c2cb",
   "metadata": {},
   "outputs": [],
   "source": [
    "b = B()"
   ]
  },
  {
   "cell_type": "markdown",
   "id": "30414c10-0b20-4d09-a15a-be71bca7ca20",
   "metadata": {},
   "source": [
    "Ahora invocaremos un método heredado, a saber, `test`."
   ]
  },
  {
   "cell_type": "code",
   "execution_count": null,
   "id": "e5af06ab-9ba0-4965-9190-bce341d0ed0a",
   "metadata": {},
   "outputs": [],
   "source": [
    "b.test()"
   ]
  },
  {
   "cell_type": "markdown",
   "id": "348c2930-57c1-4b46-93e8-ba5877e6e5cd",
   "metadata": {},
   "source": [
    "Como hemos visto, `A.test()` no llamó al método `B.__test()`, como podríamos haber esperado. Pero de hecho éste es comportamiento correcto para `__`. Así pues cuando usted crea un método que comienza por `__` significa que no quiere que nadie sea capaz de sobreescribirlo, será accesible sólo dentro de la propia clase."
   ]
  },
  {
   "cell_type": "code",
   "execution_count": null,
   "id": "8dd17cd3-ca54-4467-b686-acda175a4d7f",
   "metadata": {},
   "outputs": [],
   "source": [
    "b._A__test()"
   ]
  },
  {
   "cell_type": "code",
   "execution_count": null,
   "id": "dc6472ff-ba28-4882-93b4-560f06a1e180",
   "metadata": {},
   "outputs": [],
   "source": [
    "b._B__test()"
   ]
  },
  {
   "cell_type": "markdown",
   "id": "27e05186-08bd-4d0d-890b-24e3e089c04b",
   "metadata": {},
   "source": [
    "#### Ejemplo 5"
   ]
  },
  {
   "cell_type": "code",
   "execution_count": null,
   "id": "f5058a77-3b01-4e7a-9a39-d932f8b55846",
   "metadata": {},
   "outputs": [],
   "source": [
    "class parent(object):\n",
    "    __default = \"parent\"\n",
    "    def __init__(self, name=None):\n",
    "        self.default = name or self.__default\n",
    "\n",
    "    @property\n",
    "    def default(self):\n",
    "        return self.__default\n",
    "\n",
    "    @default.setter\n",
    "    def default(self, value):\n",
    "        self.__default = value\n",
    "\n",
    "class child(parent):\n",
    "    __default = \"child\""
   ]
  },
  {
   "cell_type": "code",
   "execution_count": null,
   "id": "bddb13ec-c7f0-4e0b-845f-c6f1469c7481",
   "metadata": {},
   "outputs": [],
   "source": [
    "child_a = child()"
   ]
  },
  {
   "cell_type": "code",
   "execution_count": null,
   "id": "60dd1da5-51e0-47fa-9b05-6caa5b8baee5",
   "metadata": {},
   "outputs": [],
   "source": [
    "child_a.default            # 'parent'"
   ]
  },
  {
   "cell_type": "code",
   "execution_count": null,
   "id": "c2d2d3fa-4b56-490d-9e9b-c6a436370be9",
   "metadata": {},
   "outputs": [],
   "source": [
    "child_a._child__default    # 'child'"
   ]
  },
  {
   "cell_type": "code",
   "execution_count": null,
   "id": "48636a88-3e39-4851-a40f-8486137adc2c",
   "metadata": {},
   "outputs": [],
   "source": [
    "child_a._parent__default   # 'parent'"
   ]
  },
  {
   "cell_type": "code",
   "execution_count": null,
   "id": "594f1da4-936b-4574-8d54-4f21d1489fd8",
   "metadata": {},
   "outputs": [],
   "source": [
    "child_b = child(\"orphan\")"
   ]
  },
  {
   "cell_type": "code",
   "execution_count": null,
   "id": "b5897aa5-2d27-442e-b108-4af1ede9d64c",
   "metadata": {},
   "outputs": [],
   "source": [
    "child_b.default            # 'orphan'"
   ]
  },
  {
   "cell_type": "code",
   "execution_count": null,
   "id": "fe809f8c-aadc-4e99-95a2-60cc755bd988",
   "metadata": {},
   "outputs": [],
   "source": [
    "child_a._child__default    # 'child'"
   ]
  },
  {
   "cell_type": "code",
   "execution_count": null,
   "id": "1f484597-69b6-4853-ab3c-f17754b5af37",
   "metadata": {},
   "outputs": [],
   "source": [
    "child_a._parent__default   # 'parent'"
   ]
  },
  {
   "cell_type": "markdown",
   "id": "95543884-e53e-4e22-b0d4-12e9607b9a02",
   "metadata": {},
   "source": [
    "#### Ejemplo 6"
   ]
  },
  {
   "cell_type": "markdown",
   "id": "d2abacf5-549f-48dc-91df-bf0889178b80",
   "metadata": {},
   "source": [
    "`__doble_subrayado_inicial_y_final__`; estos son nombres de métodos especiales usados por Python. En lo que a uno concierne, es sólo un convenio, una forma del sistema `Python` de usar nombres sin que entren en conflicto con los nombres definidos por el usuario. Son redefinidos estos métodos para definir el comportamiendo deseado cuando `Python` los invoque. Es el caso típico del método `__init__` al escribir una clase. No hay nada que le impida escribir su propio método especial con este aspecto (pero, por favor, no lo haga):"
   ]
  },
  {
   "cell_type": "code",
   "execution_count": null,
   "id": "4772cb04-8f29-4f32-bd27-945a08ad97a3",
   "metadata": {},
   "outputs": [],
   "source": [
    " name = \"test string\" "
   ]
  },
  {
   "cell_type": "code",
   "execution_count": null,
   "id": "2998594b-de36-4c4c-b0d6-90c136c12a71",
   "metadata": {},
   "outputs": [],
   "source": [
    "len(name)"
   ]
  },
  {
   "cell_type": "code",
   "execution_count": null,
   "id": "14c2e6d8-384f-4d72-9472-8ba05d3f0ce2",
   "metadata": {},
   "outputs": [],
   "source": [
    "name.__len__()"
   ]
  },
  {
   "cell_type": "code",
   "execution_count": null,
   "id": "aefa747f-52fd-424d-b5d5-1769a8fd665d",
   "metadata": {},
   "outputs": [],
   "source": [
    "number = 10"
   ]
  },
  {
   "cell_type": "code",
   "execution_count": null,
   "id": "66049cc4-99ab-4858-ba26-83052876a2fd",
   "metadata": {},
   "outputs": [],
   "source": [
    "number.__add__(40)"
   ]
  },
  {
   "cell_type": "code",
   "execution_count": null,
   "id": "87d6c80f-f903-4a64-9d65-12a43c255d6b",
   "metadata": {},
   "outputs": [],
   "source": [
    "number + 40"
   ]
  },
  {
   "cell_type": "code",
   "execution_count": null,
   "id": "dadbcbbc-8ea9-45a9-a502-f8cd1426a646",
   "metadata": {},
   "outputs": [],
   "source": [
    "number.__sub__(5)"
   ]
  },
  {
   "cell_type": "code",
   "execution_count": null,
   "id": "01922dda-3cb6-4340-88b8-8c1fc42ef394",
   "metadata": {},
   "outputs": [],
   "source": [
    "(15).__sub__(3)"
   ]
  },
  {
   "cell_type": "code",
   "execution_count": null,
   "id": "a0973195-4150-40b8-aad8-0aec1200f66c",
   "metadata": {},
   "outputs": [],
   "source": [
    "15.__sub__(3)"
   ]
  },
  {
   "cell_type": "markdown",
   "id": "f323e877-6fe8-49a7-9ccf-8eefaa303d7c",
   "metadata": {},
   "source": [
    "#### Ejemplo 7"
   ]
  },
  {
   "cell_type": "code",
   "execution_count": null,
   "id": "a88f0aca-7e6d-4458-a31f-c157247e4b26",
   "metadata": {},
   "outputs": [],
   "source": [
    "class FakeCalculator(object):\n",
    "\n",
    "    def __init__(self, number):\n",
    "        self.number = number\n",
    "\n",
    "    def __add__(self, number):\n",
    "        return self.number - number\n",
    "\n",
    "    def __sub__(self, number):\n",
    "        return self.number + number"
   ]
  },
  {
   "cell_type": "code",
   "execution_count": null,
   "id": "d5acedd0-04da-4193-91ea-de109ad2a031",
   "metadata": {},
   "outputs": [],
   "source": [
    "number = FakeCalculator(20)"
   ]
  },
  {
   "cell_type": "code",
   "execution_count": null,
   "id": "b17373f8-d5bb-4105-bed3-7a3073e7b6d5",
   "metadata": {},
   "outputs": [],
   "source": [
    "print(number + 10)      # 10"
   ]
  },
  {
   "cell_type": "code",
   "execution_count": null,
   "id": "8fec066a-8d8d-4f51-a406-692bc046e075",
   "metadata": {},
   "outputs": [],
   "source": [
    "print(number - 20)      # 40"
   ]
  },
  {
   "cell_type": "markdown",
   "id": "5b60823a-1f1f-46e2-9a46-19e1fcf7e42d",
   "metadata": {},
   "source": [
    "#### Ejemplo 8"
   ]
  },
  {
   "cell_type": "code",
   "execution_count": null,
   "id": "b8be99c6-b65c-4697-a27a-8503853c7b7a",
   "metadata": {},
   "outputs": [],
   "source": [
    "class Point:\n",
    "    def __init__(self, x = 0, y = 0):\n",
    "        self.x = x\n",
    "        self.y = y\n",
    "    \n",
    "    def __add__(self,other):\n",
    "        x = self.x + other.x\n",
    "        y = self.y + other.y\n",
    "        return Point(x,y)\n",
    "    \n",
    "    def __lt__(self,other):\n",
    "        self_mag = (self.x ** 2) + (self.y ** 2)\n",
    "        other_mag = (other.x ** 2) + (other.y ** 2)\n",
    "        return self_mag < other_mag\n",
    "\n",
    "    def __repr__(self):\n",
    "        return f'Point({self.x},{self.y})'\n",
    "        \n",
    "    def __str__(self):\n",
    "        return \"({0},{1})\".format(self.x,self.y)"
   ]
  },
  {
   "cell_type": "code",
   "execution_count": null,
   "id": "2b92931f-d607-470a-b075-16b635aa2646",
   "metadata": {},
   "outputs": [],
   "source": [
    "p1 = Point(2,3)"
   ]
  },
  {
   "cell_type": "code",
   "execution_count": null,
   "id": "5f5daead-237e-47ef-a5da-d3094ab6fdfc",
   "metadata": {},
   "outputs": [],
   "source": [
    "p2 = Point(-1,2)"
   ]
  },
  {
   "cell_type": "code",
   "execution_count": null,
   "id": "9843199a-148e-46f6-ab81-3670d51692fa",
   "metadata": {},
   "outputs": [],
   "source": [
    "p1 + p2"
   ]
  },
  {
   "cell_type": "code",
   "execution_count": null,
   "id": "e32a9ccb-46f6-4b02-9337-dda3c3f087ca",
   "metadata": {},
   "outputs": [],
   "source": [
    "print(p1 + p2)"
   ]
  },
  {
   "cell_type": "code",
   "execution_count": null,
   "id": "0a351e13-a215-42a6-a23a-a8c21ec072cc",
   "metadata": {},
   "outputs": [],
   "source": [
    "Point(1,1) < Point(-2,-3)"
   ]
  },
  {
   "cell_type": "code",
   "execution_count": null,
   "id": "56425fa1-b2d4-4f07-b929-78330fdeaf49",
   "metadata": {},
   "outputs": [],
   "source": [
    "Point(1,1) < Point(0.5,-0.2)"
   ]
  },
  {
   "cell_type": "code",
   "execution_count": null,
   "id": "31fad3b9-dc73-4a60-a179-ae6335bb6bad",
   "metadata": {},
   "outputs": [],
   "source": [
    "Point(1,1) < Point(1,1)"
   ]
  },
  {
   "cell_type": "markdown",
   "id": "1a2da36b-635d-4548-8648-541c9bb63496",
   "metadata": {},
   "source": [
    "Operator Overloading Special Functions in Python\n",
    "\n",
    "Operator             |   Expression   |   Internally\n",
    "-------------------- | -------------- | -------------------------\n",
    "Addition             |  `p1 + p2`     |    `p1.__add__(p2)`\n",
    "Subtraction          |  `p1 - p2`     |    `p1.__sub__(p2)`\n",
    "Multiplication       |  `p1 * p2`     |    `p1.__mul__(p2)`\n",
    "Power                |  `p1 ** p2`    |    `p1.__pow__(p2)`\n",
    "Division             |  `p1 / p2`     |    `p1.__truediv__(p2)`\n",
    "Floor Division       |  `p1 // p2`    |    `p1.__floordiv__(p2)`\n",
    "Remainder (modulo)   |  `p1 % p2`     |    `p1.__mod__(p2)`\n",
    "Bitwise Left Shift   |  `p1 << p2`    |    `p1.__lshift__(p2)`\n",
    "Bitwise Right Shift  |  `p1 >> p2`    |    `p1.__rshift__(p2)`\n",
    "Bitwise AND          |  `p1 & p2`     |    `p1.__and__(p2)`\n",
    "Bitwise OR           |  `p1 mid p2`   |    `p1.__or__(p2)`\n",
    "Bitwise XOR          |  `p1 ^ p2`     |    `p1.__xor__(p2)`\n",
    "Bitwise NOT          |  `~p1`         |    `p1.__invert__()`\n",
    "Less than            |  `p1 < p2`     |     `p1.__lt__(p2)`\n",
    "Less than or = to    |  `p1 <= p2`    |     `p1.__le__(p2)`\n",
    "Equal to             |  `p1 == p2`    |     `p1.__eq__(p2)`\n",
    "Not equal to         |  `p1 != p2`    |     `p1.__ne__(p2)`\n",
    "Greater than         |  `p1 > p2`     |     `p1.__gt__(p2)`\n",
    "Greater than or = to |  `p1 >= p2`    |     `p1.__ge__(p2)`"
   ]
  },
  {
   "cell_type": "markdown",
   "id": "a50de265-33d0-460a-9471-10a29d0ef25c",
   "metadata": {},
   "source": [
    "#### Ejemplo 9"
   ]
  },
  {
   "cell_type": "code",
   "execution_count": null,
   "id": "c5fc43a3-59f3-4c86-b2bb-d591fd53837e",
   "metadata": {},
   "outputs": [],
   "source": [
    "class Me(object):\n",
    "    \"\"\"\n",
    "    Clase padre de prueba\n",
    "    \"\"\"\n",
    "    def _override_me(self):\n",
    "        print(\"Me: I should NOT be called\")\n",
    "\n",
    "    def not_overriden(self):\n",
    "        self.__dont_override_me()\n",
    "\n",
    "    def __dont_override_me(self):\n",
    "        print(\"Me: I SHOULD be called\")\n",
    "\n",
    "class OverrideMe(Me):\n",
    "    \"\"\"\n",
    "    Clase OverrideMe heredera de prueba\n",
    "    \"\"\"\n",
    "    def _override_me(self):\n",
    "        print(\"OverrideMe: I SHOULD be called\")\n",
    "\n",
    "    def __dont_override_me(self):\n",
    "        print(\"OverrideMe: I should NOT be called\")"
   ]
  },
  {
   "cell_type": "code",
   "execution_count": null,
   "id": "f1d503e7-d8ad-44d6-9105-19e6d58b35da",
   "metadata": {},
   "outputs": [],
   "source": [
    "me = Me()"
   ]
  },
  {
   "cell_type": "code",
   "execution_count": null,
   "id": "695072c4-5db8-4e67-8874-6a049dec1d34",
   "metadata": {},
   "outputs": [],
   "source": [
    "override = OverrideMe()"
   ]
  },
  {
   "cell_type": "markdown",
   "id": "fd991ba1-ba74-4c65-ad18-ee963c46d04e",
   "metadata": {},
   "source": [
    "#### Prueba del Ejemplo 10: parte 1"
   ]
  },
  {
   "cell_type": "code",
   "execution_count": null,
   "id": "30dd9c40-0cc3-4b16-a551-9ea349319e68",
   "metadata": {},
   "outputs": [],
   "source": [
    "me._override_me()"
   ]
  },
  {
   "cell_type": "code",
   "execution_count": null,
   "id": "477f024d-23db-4bf6-8189-4185745a3eff",
   "metadata": {},
   "outputs": [],
   "source": [
    "me.not_overriden()"
   ]
  },
  {
   "cell_type": "code",
   "execution_count": null,
   "id": "db8ea931-6cab-4cbe-9b07-ba749c6e6be2",
   "metadata": {},
   "outputs": [],
   "source": [
    "override._override_me()"
   ]
  },
  {
   "cell_type": "code",
   "execution_count": null,
   "id": "01647615-4807-4468-b287-aed6d3ac7887",
   "metadata": {},
   "outputs": [],
   "source": [
    "override.not_overriden()"
   ]
  },
  {
   "cell_type": "markdown",
   "id": "c2cccf5d-0d3d-4d7d-8f0d-c46577d5580f",
   "metadata": {},
   "source": [
    "`MRO` es acrónimo de \"Method Resolution Order\""
   ]
  },
  {
   "cell_type": "code",
   "execution_count": null,
   "id": "8b64e61a-8a86-4076-9c80-0d8218c9f346",
   "metadata": {},
   "outputs": [],
   "source": [
    "print(\"MRO:\", OverrideMe.__mro__)"
   ]
  },
  {
   "cell_type": "markdown",
   "id": "71aeec21-2469-4b4d-9d07-09d4d4528cda",
   "metadata": {},
   "source": [
    "#### Prueba del Ejemplo 10: parte 2"
   ]
  },
  {
   "cell_type": "code",
   "execution_count": null,
   "id": "b09920ba-84d1-44af-8fab-be16cdc49da5",
   "metadata": {},
   "outputs": [],
   "source": [
    "me._Me__dont_override_me()"
   ]
  },
  {
   "cell_type": "code",
   "execution_count": null,
   "id": "fcc7bab5-127d-42e5-91f8-2cdd53bb21bc",
   "metadata": {},
   "outputs": [],
   "source": [
    "override._Me__dont_override_me()"
   ]
  },
  {
   "cell_type": "code",
   "execution_count": null,
   "id": "7e354b37-ae4f-46ac-a549-537fa0993e99",
   "metadata": {},
   "outputs": [],
   "source": [
    "override._OverrideMe__dont_override_me()"
   ]
  },
  {
   "cell_type": "code",
   "execution_count": null,
   "id": "1f6be949-7510-4087-9ec8-355bd8694eb9",
   "metadata": {},
   "outputs": [],
   "source": [
    "override.__dont_override_me()"
   ]
  },
  {
   "cell_type": "markdown",
   "id": "da0e1959-eb40-4381-892b-490cbbabccc5",
   "metadata": {},
   "source": [
    "#### Prueba del Ejemplo 10: parte 3"
   ]
  },
  {
   "cell_type": "code",
   "execution_count": null,
   "id": "2704fea2-bf86-4812-81be-ff1940b70b29",
   "metadata": {},
   "outputs": [],
   "source": [
    "print(\"MRO:\", OverrideMe.__mro__)"
   ]
  },
  {
   "cell_type": "code",
   "execution_count": null,
   "id": "c2731ed9-275e-4e7d-807b-17f04435fbd2",
   "metadata": {},
   "outputs": [],
   "source": [
    "print(dir(Me()))"
   ]
  },
  {
   "cell_type": "code",
   "execution_count": null,
   "id": "ac6f3a09-f66c-4890-95de-719b355006be",
   "metadata": {},
   "outputs": [],
   "source": [
    "print(dir(OverrideMe()))"
   ]
  },
  {
   "cell_type": "markdown",
   "id": "6d0b420d-cd29-4e99-9413-1848d62f4148",
   "metadata": {},
   "source": [
    "## Obtención de Información sobre Clases"
   ]
  },
  {
   "cell_type": "code",
   "execution_count": null,
   "id": "63553a93-3015-441f-8d4f-d44691e413ab",
   "metadata": {},
   "outputs": [],
   "source": [
    "OverrideMe.__name__"
   ]
  },
  {
   "cell_type": "code",
   "execution_count": null,
   "id": "3f38db6f-9173-4af6-936a-a5554dd6068f",
   "metadata": {},
   "outputs": [],
   "source": [
    "OverrideMe.__doc__"
   ]
  },
  {
   "cell_type": "code",
   "execution_count": null,
   "id": "81ea6aff-7a1d-43c4-a659-3735079717f0",
   "metadata": {},
   "outputs": [],
   "source": [
    "print(OverrideMe.__doc__)"
   ]
  },
  {
   "cell_type": "code",
   "execution_count": null,
   "id": "1fbdddf7-334e-461f-b810-0179a61567a4",
   "metadata": {},
   "outputs": [],
   "source": [
    "dir(OverrideMe)"
   ]
  },
  {
   "cell_type": "code",
   "execution_count": null,
   "id": "0544a7e5-ddf4-4b9f-a19e-e71ce7071130",
   "metadata": {},
   "outputs": [],
   "source": [
    "OverrideMe.__dict__"
   ]
  },
  {
   "cell_type": "code",
   "execution_count": null,
   "id": "ec1df6ca-48de-4cbd-b8e8-73356eb5b3c7",
   "metadata": {},
   "outputs": [],
   "source": [
    "OverrideMe.__module__"
   ]
  },
  {
   "cell_type": "code",
   "execution_count": null,
   "id": "b2fdfa64-03d1-46d9-97c9-60b6014929ea",
   "metadata": {},
   "outputs": [],
   "source": [
    "OverrideMe.__bases__"
   ]
  },
  {
   "cell_type": "code",
   "execution_count": null,
   "id": "4bc6c1cf-d56f-4b87-bd4a-fac0ae0416d1",
   "metadata": {},
   "outputs": [],
   "source": [
    "print(\"MRO:\", OverrideMe.__mro__)"
   ]
  },
  {
   "cell_type": "markdown",
   "id": "a91ba09e-3157-41fb-9635-cd0487836287",
   "metadata": {},
   "source": [
    "## Las ventajas de la programación orientada a objetos en Python"
   ]
  },
  {
   "cell_type": "markdown",
   "id": "9812dc9d-0de0-418d-a795-192894062a69",
   "metadata": {},
   "source": [
    "1. Ayuda a organizar el código dividiéndolo en partes más pequeñas y reutilizables.\n",
    "1. Facilita el modelado de objetos del mundo real y su comportamiento.\n",
    "1. Promueve la reutilización de código a través de la herencia.\n",
    "1. Proporciona una forma clara de representar las relaciones entre diferentes objetos y sus propiedades y métodos."
   ]
  },
  {
   "cell_type": "markdown",
   "id": "6d8e78dc-fed8-4e07-b571-e9a5f8bdafd0",
   "metadata": {},
   "source": [
    "## Las desventajas de la programación orientada a objetos en Python"
   ]
  },
  {
   "cell_type": "markdown",
   "id": "bd42be50-280c-4905-8695-99a7b1fc264a",
   "metadata": {},
   "source": [
    "1. Puede ser más difícil entender cómo funciona un programa orientado a objetos en comparación con un programa procedimental.\n",
    "1. Los programas que están fuertemente orientados a objetos pueden tener muchas clases y resultar difíciles de navegar.\n",
    "1. Los conceptos de programación orientada a objetos en Python pueden conducir a programas más complejos y, a veces, pueden aumentar la dificultad de depuración."
   ]
  },
  {
   "cell_type": "markdown",
   "id": "565f1a2f-5991-476f-b04e-b30e3b3410b9",
   "metadata": {},
   "source": [
    "## Conclusión"
   ]
  },
  {
   "cell_type": "markdown",
   "id": "8563205d-a802-4845-9bb7-c18b14cbe6d7",
   "metadata": {},
   "source": [
    "La programación orientada a objetos (POO) es un paradigma poderoso que revolucionó el desarrollo de software al brindar un enfoque estructurado para modelar entidades del mundo real y sus interacciones. Al enfatizar principios como la encapsulación, la herencia, el polimorfismo y la abstracción, la POO permite a los desarrolladores crear código modular, reutilizable y fácil de mantener. Mediante el uso de clases, objetos y la implementación de conceptos de POO de Python, los programadores pueden crear sistemas de software sofisticados que reflejen con precisión las complejidades del mundo real. Comprender y dominar los principios de la POO son habilidades esenciales para los desarrolladores de software modernos, ya que les permiten diseñar soluciones elegantes para problemas complejos e impulsar la innovación en el campo de la informática."
   ]
  },
  {
   "cell_type": "markdown",
   "id": "c85a3ed3-071b-4801-bfca-34cd234216f6",
   "metadata": {},
   "source": [
    "## Bibliografía y Enlaces de Interés"
   ]
  },
  {
   "cell_type": "markdown",
   "id": "4a2bd910-f7ff-44a0-bcef-2b02ec68d5d7",
   "metadata": {},
   "source": [
    "Para ampliar esta información puede consultar:\n",
    "\n",
    "* [abc — Abstract Base Classes](https://docs.python.org/es/3.13/library/abc.html#abc.abstractmethod)\n",
    "* [Calling parent class __init__ with multiple inheritance, what's the right way?](https://stackoverflow.com/questions/9575409/calling-parent-class-init-with-multiple-inheritance-whats-the-right-way)\n",
    "* [Decoradores en Python: ¿Qué son y cómo funcionan?](https://www.programaenpython.com/avanzado/decoradores-en-python/)\n",
    "* [OOPs Concepts in Python](https://www.geekster.in/articles/oops-concepts-in-python/)\n",
    "* [Python Object-Oriented Programming](https://www.w3resource.com/python-exercises/oop/python-oop-exercise-4.php)\n",
    "* Ramalho, L.; [Fluent Python](https://github.com/WeitaoZhu/Python/blob/master/Fluent.Python.2nd.Edition.(z-lib.org).pdf). O'Really, 2015.\n",
    "* Sweigart, A.; [Automate the Boring Stuff with Python](https://automatetheboringstuff.com/). No Starch Press, [2015](https://archive.org/details/Automate-Boring-Stuff-Python-2nd/page/n7/mode/2up).\n",
    "* [Understanding Python `super()` with `__init__()` methods](https://stackoverflow.com/questions/576169/understanding-python-super-with-init-methods)"
   ]
  }
 ],
 "metadata": {
  "kernelspec": {
   "display_name": "Python 3 (ipykernel)",
   "language": "python",
   "name": "python3"
  },
  "language_info": {
   "codemirror_mode": {
    "name": "ipython",
    "version": 3
   },
   "file_extension": ".py",
   "mimetype": "text/x-python",
   "name": "python",
   "nbconvert_exporter": "python",
   "pygments_lexer": "ipython3",
   "version": "3.9.12"
  }
 },
 "nbformat": 4,
 "nbformat_minor": 5
}
