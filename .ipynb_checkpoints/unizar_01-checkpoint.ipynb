{
 "cells": [
  {
   "cell_type": "markdown",
   "id": "fed38b04",
   "metadata": {},
   "source": [
    "# Curso Elemental de Python. Cuaderno 01"
   ]
  },
  {
   "cell_type": "markdown",
   "id": "bb574330",
   "metadata": {},
   "source": [
    "## Tipos de Datos Básicos"
   ]
  },
  {
   "cell_type": "markdown",
   "id": "24de71f8",
   "metadata": {},
   "source": [
    "`Python` es un lenguaje con un sistema de tipos [fuerte y dinámico](https://recursospython.com/guias-y-manuales/tipado-dinamico-y-tipado-fuerte/). En este curso abreviado y en una primera instancia mencionaremos entre los tipos básicos: `int`, `float` y `bool`, aunque esto es una parte muy reducida de muchos que en una [enumeración no exhaustiva pero más general](https://www.w3schools.com/python/python_datatypes.asp) podríamos concretar en los siguientes:\n",
    "\n",
    "* tipo texto: `str`\n",
    "* tipos numéricos: `int`, `float`, `complex`\n",
    "* tipos de secuencias: `list`, `tuple`, `range`\n",
    "* tipo de aplicaciones: `dict`\n",
    "* tipos de conjunto: `set`, `frozenset`\n",
    "* tipo booleano: `bool`\n",
    "* tipos binarios: `bytes`, `bytearray`, `memoryview`\n",
    "* ningún tipo: `NoneType`\n"
   ]
  },
  {
   "cell_type": "markdown",
   "id": "6e0e8863",
   "metadata": {},
   "source": [
    "### `int`"
   ]
  },
  {
   "cell_type": "code",
   "execution_count": null,
   "id": "c53db408",
   "metadata": {},
   "outputs": [],
   "source": [
    "a = 28"
   ]
  },
  {
   "cell_type": "code",
   "execution_count": null,
   "id": "b4484568",
   "metadata": {},
   "outputs": [],
   "source": [
    "type(a)"
   ]
  },
  {
   "cell_type": "code",
   "execution_count": null,
   "id": "0027c39d",
   "metadata": {},
   "outputs": [],
   "source": [
    "3 + 28"
   ]
  },
  {
   "cell_type": "code",
   "execution_count": null,
   "id": "110365be",
   "metadata": {},
   "outputs": [],
   "source": [
    "3 - 28"
   ]
  },
  {
   "cell_type": "code",
   "execution_count": null,
   "id": "534d4ce1",
   "metadata": {},
   "outputs": [],
   "source": [
    "3 * 28"
   ]
  },
  {
   "cell_type": "code",
   "execution_count": null,
   "id": "bfac2bab",
   "metadata": {},
   "outputs": [],
   "source": [
    "(3 * 28) + 5"
   ]
  },
  {
   "cell_type": "code",
   "execution_count": null,
   "id": "1c42e612",
   "metadata": {},
   "outputs": [],
   "source": [
    "3 * (28 + 5) # el paréntesis altera el orden de evaluación"
   ]
  },
  {
   "cell_type": "code",
   "execution_count": null,
   "id": "71d0d451",
   "metadata": {},
   "outputs": [],
   "source": [
    "8 // 5 # muestra el cociente de la división entera"
   ]
  },
  {
   "cell_type": "code",
   "execution_count": null,
   "id": "196bd4ce",
   "metadata": {},
   "outputs": [],
   "source": [
    "8 % 5 # muestra el resto de la división entera"
   ]
  },
  {
   "cell_type": "code",
   "execution_count": null,
   "id": "f1344186",
   "metadata": {},
   "outputs": [],
   "source": [
    "divmod(8,5) # el resultado es un dato del tipo tuple"
   ]
  },
  {
   "cell_type": "code",
   "execution_count": null,
   "id": "22dcfb02",
   "metadata": {},
   "outputs": [],
   "source": [
    "2**3"
   ]
  },
  {
   "cell_type": "code",
   "execution_count": null,
   "id": "7a88bde8",
   "metadata": {},
   "outputs": [],
   "source": [
    "2^3 # esta operación no responde a la potencia de 2 elevado a 3"
   ]
  },
  {
   "cell_type": "code",
   "execution_count": null,
   "id": "e35c0f26",
   "metadata": {},
   "outputs": [],
   "source": [
    "pow(2,3)"
   ]
  },
  {
   "cell_type": "code",
   "execution_count": null,
   "id": "a8aa510e",
   "metadata": {},
   "outputs": [],
   "source": [
    "pow(2,3) % 5"
   ]
  },
  {
   "cell_type": "code",
   "execution_count": null,
   "id": "f254f3dd",
   "metadata": {},
   "outputs": [],
   "source": [
    "pow(2,3,5)"
   ]
  },
  {
   "cell_type": "code",
   "execution_count": null,
   "id": "a0051f07-0340-4f9a-af5c-24256ffdf4cd",
   "metadata": {},
   "outputs": [],
   "source": [
    "pow?"
   ]
  },
  {
   "cell_type": "code",
   "execution_count": null,
   "id": "e29bb615-96c3-481f-9801-4d7d2a307c81",
   "metadata": {},
   "outputs": [],
   "source": [
    "pow??"
   ]
  },
  {
   "cell_type": "markdown",
   "id": "3dd5ebe6",
   "metadata": {},
   "source": [
    "### `float`"
   ]
  },
  {
   "cell_type": "code",
   "execution_count": null,
   "id": "ad2ab880",
   "metadata": {},
   "outputs": [],
   "source": [
    "a = 28.3"
   ]
  },
  {
   "cell_type": "code",
   "execution_count": null,
   "id": "d8e6d98c",
   "metadata": {},
   "outputs": [],
   "source": [
    "type(a)"
   ]
  },
  {
   "cell_type": "code",
   "execution_count": null,
   "id": "709dd99c",
   "metadata": {},
   "outputs": [],
   "source": [
    "28.3/5"
   ]
  },
  {
   "cell_type": "code",
   "execution_count": null,
   "id": "63198f57",
   "metadata": {},
   "outputs": [],
   "source": [
    "b = int(a); b"
   ]
  },
  {
   "cell_type": "code",
   "execution_count": null,
   "id": "1c2f79c3",
   "metadata": {},
   "outputs": [],
   "source": [
    "b / 5"
   ]
  },
  {
   "cell_type": "code",
   "execution_count": null,
   "id": "4afa080a",
   "metadata": {},
   "outputs": [],
   "source": [
    "c = float(8)"
   ]
  },
  {
   "cell_type": "code",
   "execution_count": null,
   "id": "7da22ec3",
   "metadata": {},
   "outputs": [],
   "source": [
    "c / 5"
   ]
  },
  {
   "cell_type": "markdown",
   "id": "0ae65539",
   "metadata": {},
   "source": [
    "### `bool`"
   ]
  },
  {
   "cell_type": "code",
   "execution_count": null,
   "id": "470000ea",
   "metadata": {},
   "outputs": [],
   "source": [
    "a = True; b = False"
   ]
  },
  {
   "cell_type": "code",
   "execution_count": null,
   "id": "49524a32",
   "metadata": {},
   "outputs": [],
   "source": [
    "a and b # es la conjunción lógica"
   ]
  },
  {
   "cell_type": "code",
   "execution_count": null,
   "id": "c032a079",
   "metadata": {},
   "outputs": [],
   "source": [
    "a or b"
   ]
  },
  {
   "cell_type": "code",
   "execution_count": null,
   "id": "e400e681",
   "metadata": {},
   "outputs": [],
   "source": [
    "not a"
   ]
  },
  {
   "cell_type": "code",
   "execution_count": null,
   "id": "e5ee1cb2",
   "metadata": {},
   "outputs": [],
   "source": [
    "not b"
   ]
  },
  {
   "cell_type": "markdown",
   "id": "0c9046e1",
   "metadata": {},
   "source": [
    "### Comparaciones"
   ]
  },
  {
   "cell_type": "code",
   "execution_count": null,
   "id": "450ac575",
   "metadata": {},
   "outputs": [],
   "source": [
    "3 < 8"
   ]
  },
  {
   "cell_type": "code",
   "execution_count": null,
   "id": "193eee3a",
   "metadata": {},
   "outputs": [],
   "source": [
    "3 > 8"
   ]
  },
  {
   "cell_type": "code",
   "execution_count": null,
   "id": "792a24cf-f92f-4490-9570-cb01eab02296",
   "metadata": {},
   "outputs": [],
   "source": [
    "5 <= 6.3"
   ]
  },
  {
   "cell_type": "code",
   "execution_count": null,
   "id": "b2b8c309-a6a7-44fc-aa63-1fba00bd0b51",
   "metadata": {},
   "outputs": [],
   "source": [
    "5 >= 6.3"
   ]
  },
  {
   "cell_type": "code",
   "execution_count": null,
   "id": "bac2465d-e846-447e-9c53-53b03a27f2d2",
   "metadata": {},
   "outputs": [],
   "source": [
    "5 != 6"
   ]
  },
  {
   "cell_type": "code",
   "execution_count": null,
   "id": "e93f5c9e-21f3-46a3-a986-7b9379ee930a",
   "metadata": {},
   "outputs": [],
   "source": [
    "5 == 6"
   ]
  },
  {
   "cell_type": "code",
   "execution_count": null,
   "id": "0511f748-e743-4aa8-982b-6e7d2f2f8d47",
   "metadata": {},
   "outputs": [],
   "source": [
    "5 == 3+2"
   ]
  },
  {
   "cell_type": "code",
   "execution_count": null,
   "id": "0ef7e7a9-0fef-406c-9e2c-329964d1b9cc",
   "metadata": {},
   "outputs": [],
   "source": [
    "a < b"
   ]
  },
  {
   "cell_type": "code",
   "execution_count": null,
   "id": "fd2d5f95-ea86-4720-bae3-a13a88a9e09c",
   "metadata": {},
   "outputs": [],
   "source": [
    "b < a"
   ]
  },
  {
   "cell_type": "code",
   "execution_count": null,
   "id": "9b14b430-03f3-42e9-b42a-a1cfe19959a6",
   "metadata": {},
   "outputs": [],
   "source": [
    "'ab' < 'c'"
   ]
  },
  {
   "cell_type": "code",
   "execution_count": null,
   "id": "a9714efd-883e-482f-889a-cf4125bd7ff9",
   "metadata": {},
   "outputs": [],
   "source": [
    "_42"
   ]
  },
  {
   "cell_type": "code",
   "execution_count": null,
   "id": "c3c52bce-7ebf-4351-8746-418266a84436",
   "metadata": {},
   "outputs": [],
   "source": [
    "\"\"\"a'\"b\"\"\""
   ]
  },
  {
   "cell_type": "markdown",
   "id": "300724a8-0ad1-447e-b9fc-c6b46c259198",
   "metadata": {},
   "source": [
    "## Control de Flujo"
   ]
  },
  {
   "cell_type": "markdown",
   "id": "5be24a06-577e-4b41-9779-80cb43a67e83",
   "metadata": {},
   "source": [
    "Un grupo de declaraciones individuales, que forman un solo bloque de código, se denomina **suite** en Python. Las declaraciones compuestas o complejas, como `if`, `while`, `def` y `class` requieren una línea de encabezado y una suite.\n",
    "\n",
    "Las líneas de encabezado comienzan la declaración (con la palabra clave) y terminan con dos puntos (:) y son seguidas por una o más líneas que componen la suite. Por ejemplo:\n",
    "\n",
    "    if expression_01: \n",
    "       suite\n",
    "    elif expression_02: \n",
    "       suite \n",
    "    else: \n",
    "       suite"
   ]
  },
  {
   "cell_type": "markdown",
   "id": "2900a801-52ff-4e08-8abf-f01fd7703b53",
   "metadata": {},
   "source": [
    "### `if elif else`"
   ]
  },
  {
   "cell_type": "code",
   "execution_count": null,
   "id": "25f18919-3b63-47da-9da8-30260153e1ce",
   "metadata": {},
   "outputs": [],
   "source": [
    "temperatura = float(input(\"¿Cuál es la temperatura (en Farenheit)? \"))\n",
    "print('{1}ºF equivale {0}ºC'.format((temperatura-32)/1.8,temperatura))\n",
    "\n",
    "if 60 < temperatura <= 80: # equivalente a 'if temperatura > 60 and temperatura <= 80:'\n",
    "    print(\"Hace calor fuera\")\n",
    "elif temperatura > 80:\n",
    "    print(\"¡Casi prodemos freir un huevo en el asfalto!\")\n",
    "elif temperatura < 0:\n",
    "    print(\"Hace frío fuera\")\n",
    "else:\n",
    "    print(\"Se está bien fuera\")\n",
    "print(\"Hecho\")"
   ]
  },
  {
   "cell_type": "markdown",
   "id": "005bbd10-b5ee-43f3-8c3d-e2c098caca27",
   "metadata": {},
   "source": [
    "### `for`"
   ]
  },
  {
   "cell_type": "markdown",
   "id": "5b1d0ae4-35ee-4caf-9878-406356960be1",
   "metadata": {},
   "source": [
    "La instrucción `for` en Python tiene la capacidad de iterar sobre los elementos de cualquier secuencia iterable, como una lista o una cadena.\n",
    "\n",
    "Su sintaxis básica es:\n",
    "\n",
    "    for iterating_var in sequence:\n",
    "        suite\n",
    "\n",
    "Si una secuencia (`sequence`) contiene una lista de expresiones, primero se evalúa; luego el primer elemento de la secuencia se asigna a la variable iteradora `iterating_var`. A continuación, se ejecuta el bloque de instrucciones (`suite`). Cada elemento de la lista se asigna a `iterating_var`, y el bloque de instrucciones se ejecuta hasta que se agota `sequence`.\n"
   ]
  },
  {
   "cell_type": "code",
   "execution_count": null,
   "id": "8986101c-e492-4308-859f-22022d9f9088",
   "metadata": {},
   "outputs": [],
   "source": [
    "for m in 'Python': # atravesando la secuencia de caracteres (string)'Python' vía la variable de designador letter\n",
    "    print('Letra actual: ', m)\n",
    "print('Hecho')"
   ]
  },
  {
   "cell_type": "code",
   "execution_count": null,
   "id": "4056a2a7-f4bc-4ddc-a2d1-3f721c3ab4cf",
   "metadata": {},
   "outputs": [],
   "source": [
    "fruits = ['banana', 'apple',  'mango']\n",
    "for fruit in fruits: # atravesando la lista fruits vía la variable de designador fruit\n",
    "    print ('Fruta actual:', fruit)\n",
    "print (\"Hecho\")"
   ]
  },
  {
   "cell_type": "code",
   "execution_count": null,
   "id": "98d1d7a3-96de-4946-9edf-ec50d93e33d0",
   "metadata": {},
   "outputs": [],
   "source": [
    "type(range(9))"
   ]
  },
  {
   "cell_type": "code",
   "execution_count": null,
   "id": "4c51b3ae-41a1-43ff-8af1-f3cfd15b7b98",
   "metadata": {},
   "outputs": [],
   "source": [
    "list(range(10,20,2))"
   ]
  },
  {
   "cell_type": "code",
   "execution_count": null,
   "id": "892694c7-044d-4fa6-b195-dc926310ede0",
   "metadata": {},
   "outputs": [],
   "source": [
    "for i in range(1,5):\n",
    "    for j in range(0,i):\n",
    "        print(i)\n",
    "    print(\"\\n\")"
   ]
  },
  {
   "cell_type": "markdown",
   "id": "204c8922-627d-47d8-880f-3274c160f600",
   "metadata": {},
   "source": [
    "### `while`"
   ]
  },
  {
   "cell_type": "markdown",
   "id": "d0f8c3d0-20d8-4f5b-8268-ba1ba74967c5",
   "metadata": {},
   "source": [
    "Una declaración de bucle `while` en el lenguaje de programación Python ejecuta repetidamente una declaración (`suite`) siempre que una condición determinada sea verdadera.\n",
    "\n",
    "La sintaxis es la siguiente:\n",
    "\n",
    "    while expression:\n",
    "          suite\n",
    "\n",
    "Aquí, la condición representada por `expression` recibe el nombre de \"centinela\" y debe ser una expresión booleana, es decir, que al ser evaluada de `True` o `False`. El cuerpo del `while` es representado aquí por `suite`; puede ser una sola instrucción o un bloque de instrucciones con sangría uniforme para determinar unívocamente su extensión. La ejecución de la `suite` se repite cíclicamente mientras la condición centinela sea evaluada como verdadera; la evaluación de dicha expresión es llevada a cabo tras completar la suite en cada vuelta del bucle.\n",
    "\n",
    "Cuando la condición se vuelve falsa, el control del programa pasa a la línea inmediatamente siguiente al bucle o a la suite del `else`, si lo hubiera.\n",
    "\n",
    "En Python, todas las declaraciones sangradas por el mismo número de espacios de caracteres después de una construcción de programación se consideran parte de un solo bloque de código. Python usa la sangría como método para agrupar declaraciones."
   ]
  },
  {
   "cell_type": "code",
   "execution_count": null,
   "id": "a05841bb-09d1-4c94-b464-67dc4977c8c6",
   "metadata": {},
   "outputs": [],
   "source": [
    "count = 0\n",
    "while (count < 9):\n",
    "    print ('El contador vale: ',count)\n",
    "    count = count + 1\n",
    "print (\"El bucle concluyó\")"
   ]
  },
  {
   "cell_type": "markdown",
   "id": "eef80c02-cc0d-4124-b9bd-ebf225618625",
   "metadata": {},
   "source": [
    "En Python, como en otros lenguajes, hay **abreviaturas** que aportan **mejoras al código**. En retazo de código anterior debería ser escrito como sigue."
   ]
  },
  {
   "cell_type": "code",
   "execution_count": null,
   "id": "126f9d07-d232-461f-bc0d-a5f343add721",
   "metadata": {},
   "outputs": [],
   "source": [
    "count = 0\n",
    "while count < 9:\n",
    "    print ('El contador vale: ',count)\n",
    "    count += 1 # equivale a count = count + 1\n",
    "print (\"El bucle concluyó\")"
   ]
  },
  {
   "cell_type": "markdown",
   "id": "e05e03ef-1f0c-4ac0-bc5e-7ff9ece93cdc",
   "metadata": {},
   "source": [
    "Es posible escribir bucles que no concluyan jamás; sigue un ejemplo."
   ]
  },
  {
   "cell_type": "code",
   "execution_count": null,
   "id": "f8d30bd8-cb55-4c5e-8b36-79db7cb6eb21",
   "metadata": {},
   "outputs": [],
   "source": [
    "var = 1\n",
    "while var == 1 :  # Esto construye un bucle no finito\n",
    "    num = int(float(input(\"Introduzca un número: \")))\n",
    "    print (\"Introdujo: \", num)\n",
    "print (\"Fin\")"
   ]
  },
  {
   "cell_type": "markdown",
   "id": "f9338153-72bb-4199-b8f0-efd53b776428",
   "metadata": {},
   "source": [
    "## Ejercicios"
   ]
  },
  {
   "cell_type": "markdown",
   "id": "2380b93e-4a6e-4a17-86e5-2d9ed274d8a2",
   "metadata": {},
   "source": [
    "1. Escriba un retazo de código que decida e indique si un número es par, impar múltiplo de 3 o impar no múltiplo de 3.\n",
    "1. Usando `for` escriba un retazo de código que calcule el factorial de un número natural n.\n",
    "1. Usando `while` escriba un retazo de código que calcule el factorial de un número natural n.\n",
    "1. Escriba todos los números de Fibonacci menores que un valor dado.\n",
    "1. Encuentre el primer número natural n para el que su potencia de 100 es menor que su factorial."
   ]
  }
 ],
 "metadata": {
  "kernelspec": {
   "display_name": "Python 3 (ipykernel)",
   "language": "python",
   "name": "python3"
  },
  "language_info": {
   "codemirror_mode": {
    "name": "ipython",
    "version": 3
   },
   "file_extension": ".py",
   "mimetype": "text/x-python",
   "name": "python",
   "nbconvert_exporter": "python",
   "pygments_lexer": "ipython3",
   "version": "3.11.1"
  }
 },
 "nbformat": 4,
 "nbformat_minor": 5
}
