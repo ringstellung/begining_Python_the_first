{
 "cells": [
  {
   "cell_type": "markdown",
   "id": "24417cfd-85df-4c69-97c4-eb9e2a7494c6",
   "metadata": {},
   "source": [
    "# Ejemplos de Programación Orientada a Objetos Involucrando el método `Super()` con `__Init__()`"
   ]
  },
  {
   "cell_type": "markdown",
   "id": "65ea4893-0e41-4f14-8e08-0c1ad60a3e50",
   "metadata": {},
   "source": [
    "Mediante la noción de herencia en Python vamos a tratar de materializar en código el siguiente esquema a modo de ejemplo explicativo:\n",
    "\n",
    "                            Object\n",
    "                              |\n",
    "                             ABC\n",
    "                              |\n",
    "                            Shape\n",
    "                          /       \\\n",
    "                       Circle   Triangle \n",
    "                          \\        / \n",
    "                           \\      /\n",
    "                             Cone"
   ]
  },
  {
   "cell_type": "code",
   "execution_count": null,
   "id": "9ba2d750-968a-4c0c-923b-d0b881aa400d",
   "metadata": {},
   "outputs": [],
   "source": [
    "from abc import ABC, abstractmethod\n",
    "from math import pi, sqrt"
   ]
  },
  {
   "cell_type": "code",
   "execution_count": null,
   "id": "72b4110e-8356-4e84-a8c8-18cecf6870a3",
   "metadata": {},
   "outputs": [],
   "source": [
    "class Shape(ABC):\n",
    "    \"\"\"\n",
    "    Explicitamos que Shape cuenta con dos funciones sin código, código que será materializado en la\n",
    "    herencia. perimeter (resp. area) representa un valor asociado a cada instancia de Shape que estemos \n",
    "    manipulando pero con la unidad de medida elevada a la dimensión de la instancia menos uno (resp. \n",
    "    de la instancia). Por ejemplo, si pensamos en instancias de dimensión 2 (tríangulos, círculos, etc.), \n",
    "    perimeter tendrá salida con unidades u^1 y area tendrá una salida con unidades u^2; pero si \n",
    "    pensamos en instancias de dimensión 3 (conos, etc.), perimeter tendrá salida con unidades u^2 \n",
    "    (área lateral total) y area tendrá una salida con unidades u^3 (volumen). Si alguien siente recelo\n",
    "    de esto, pues que renombre `perimeter` y `area` a un nombre menos sugerente \n",
    "    respecto a conceptos geométricos, p.e. que renombre \"perimeter\" a \"m\" y \"area\" a \"n\".\n",
    "    \"\"\"\n",
    "    @abstractmethod\n",
    "    def perimeter(self):\n",
    "        pass\n",
    "    @abstractmethod\n",
    "    def area(self):\n",
    "        pass"
   ]
  },
  {
   "cell_type": "code",
   "execution_count": null,
   "id": "48c06c4a-29fe-4cd8-9fc9-87f88f1ab366",
   "metadata": {},
   "outputs": [],
   "source": [
    "class Circle(Shape):\n",
    "    # Initialize the Circle object with a given radius\n",
    "    def __init__(self, radius, **kwargs):\n",
    "        self.radius = radius\n",
    "        super().__init__(**kwargs) # reenvía todos los argumentos no utilizados\n",
    "\n",
    "    # Calculate and return the area of the circle using the formula: π * r^2\n",
    "    def area(self):\n",
    "        return pi * self.radius**2\n",
    "\n",
    "    # Calculate and return the perimeter of the circle using the formula: 2π * r\n",
    "    def perimeter(self):\n",
    "        return 2 * pi * self.radius\n",
    "\n",
    "    def __repr__(self):\n",
    "        return f'Circle({self.radius})'\n",
    "\n",
    "    def __str__(self):\n",
    "        r0 = self.radius\n",
    "        r1, r2 = self.area(), self.perimeter()\n",
    "        return \"Circle({0},{1} u^2,{2} u)\".format(r0,r1,r2)"
   ]
  },
  {
   "cell_type": "code",
   "execution_count": null,
   "id": "17df1cad-7650-4d5c-89f0-a5b666cc3ce7",
   "metadata": {},
   "outputs": [],
   "source": [
    "r = 7"
   ]
  },
  {
   "cell_type": "code",
   "execution_count": null,
   "id": "c4778d16-5f7f-4c25-8e9b-70436a8d4c0d",
   "metadata": {},
   "outputs": [],
   "source": [
    "circle = Circle(r)"
   ]
  },
  {
   "cell_type": "code",
   "execution_count": null,
   "id": "62fe9b51-9f61-401e-98ce-16cfbaa76073",
   "metadata": {},
   "outputs": [],
   "source": [
    "circle"
   ]
  },
  {
   "cell_type": "code",
   "execution_count": null,
   "id": "c3c7b4fa-e96e-48b9-941f-a409a2c33557",
   "metadata": {},
   "outputs": [],
   "source": [
    "circle.area()"
   ]
  },
  {
   "cell_type": "code",
   "execution_count": null,
   "id": "e9fdec35-3636-4e94-a4c6-025bf202689f",
   "metadata": {},
   "outputs": [],
   "source": [
    "circle.perimeter()"
   ]
  },
  {
   "cell_type": "code",
   "execution_count": null,
   "id": "42b4dca7-a18a-42df-9e79-d344931c82fb",
   "metadata": {},
   "outputs": [],
   "source": [
    "print(circle)"
   ]
  },
  {
   "cell_type": "code",
   "execution_count": null,
   "id": "c77e1dda-6aa1-44bd-b761-f110b3c3d5dc",
   "metadata": {},
   "outputs": [],
   "source": [
    "class Triangle(Shape):\n",
    "    \"\"\"\n",
    "    Clase de los triángulo para la formación de los mismos,\n",
    "    de ser posible, y la obtención de su área y perímetro.\n",
    "    \"\"\"\n",
    "    # decides whether a triad of numbers forms a triangle or not\n",
    "    def _es_triangulo(self, a, b, c):\n",
    "        lst = [a,b,c]\n",
    "        lst.sort()\n",
    "        longer = lst.pop()\n",
    "        return sum(lst) > longer\n",
    "\n",
    "    # Calculates the semi-perimeter of a triangle\n",
    "    def _semiperimeter(self):\n",
    "        return (self.side1 + self.side2 + self.side3) / 2\n",
    "\n",
    "    # Initialize the Triangle object with three side lengths if possible\n",
    "    def __init__(self, side1, side2, side3, **kwargs):\n",
    "        if self._es_triangulo(side1,side2,side3):\n",
    "            self.side1 = side1\n",
    "            self.side2 = side2\n",
    "            self.side3 = side3\n",
    "        else:\n",
    "            self.side1, self.side2, self.side3 = 0, 0, 0\n",
    "\n",
    "        super().__init__(**kwargs)\n",
    "\n",
    "    # Calculate and return the area of the triangle using the formula: 0.5 * base * height\n",
    "    def area(self):\n",
    "        sp1, sp2, sp3 = self.side1, self.side2, self.side3\n",
    "        sp = self._semiperimeter()\n",
    "        return sqrt(sp*(sp-sp1)*(sp-sp2)*(sp-sp3))\n",
    "\n",
    "    # Calculate and return the perimeter of the triangle by adding the lengths of its three sides\n",
    "    def perimeter(self):\n",
    "        return self.side1 + self.side2 + self.side3\n",
    "\n",
    "    def __repr__(self):\n",
    "        return f'Triangle({self.side1},{self.side2},{self.side3})'\n",
    "\n",
    "    def __str__(self):\n",
    "        s0,s1,s2 = self.side1, self.side2, self.side3\n",
    "        s3, s4 = self.area(), self.perimeter()\n",
    "        return \"T({0},{1},{2},{3} u^2,{4} u)\".format(s0,s1,s2,s3,s4)"
   ]
  },
  {
   "cell_type": "markdown",
   "id": "d62db97e-2283-4e96-b803-b83f52a4f2de",
   "metadata": {},
   "source": [
    "El siguiente ejemplo es un ejemplo no \"sano\" de triángulo, de hecho no determina un triángulo y todo lo esperable de él va a fracasar, siendo presentados valores absurdos. Incluso pudimos optar por dar la voz de alarma más sonoramente con él haciendo que fuesen elevados errores, que habríamos de capturar constantemente por mor de que no se viese frustrado el flujo del programa."
   ]
  },
  {
   "cell_type": "code",
   "execution_count": null,
   "id": "124c3507-aae5-45ee-8415-083de3854b2f",
   "metadata": {},
   "outputs": [],
   "source": [
    "c = Triangle(1,2,3)"
   ]
  },
  {
   "cell_type": "code",
   "execution_count": null,
   "id": "92e99795-92e0-4641-84d1-8ae06fad8376",
   "metadata": {},
   "outputs": [],
   "source": [
    "print(c)"
   ]
  },
  {
   "cell_type": "code",
   "execution_count": null,
   "id": "a3921171-5834-466a-ad5f-75b67a9e710e",
   "metadata": {},
   "outputs": [],
   "source": [
    "c.side1"
   ]
  },
  {
   "cell_type": "code",
   "execution_count": null,
   "id": "a6f15ae8-b1c7-40ed-bd03-5eb861138fc5",
   "metadata": {},
   "outputs": [],
   "source": [
    "c.area()"
   ]
  },
  {
   "cell_type": "code",
   "execution_count": null,
   "id": "037abf1e-f805-4910-8f0d-cfb3deb69f9b",
   "metadata": {},
   "outputs": [],
   "source": [
    "c.perimeter()"
   ]
  },
  {
   "cell_type": "markdown",
   "id": "15745c7f-f088-469d-8082-8a54d4fa59b2",
   "metadata": {},
   "source": [
    "Sin embargo, el siguiente sí es un triángulo \"sano\"."
   ]
  },
  {
   "cell_type": "code",
   "execution_count": null,
   "id": "975e733a-9c25-41a5-ab5b-1cc0a44a142e",
   "metadata": {},
   "outputs": [],
   "source": [
    "d = Triangle (2,2,3)"
   ]
  },
  {
   "cell_type": "code",
   "execution_count": null,
   "id": "cdf3abe7-98f2-4029-9e82-a86ddd1686f1",
   "metadata": {},
   "outputs": [],
   "source": [
    "d"
   ]
  },
  {
   "cell_type": "code",
   "execution_count": null,
   "id": "f8eef075-98e9-4ee2-a789-12e299fec5d8",
   "metadata": {},
   "outputs": [],
   "source": [
    "repr(d)"
   ]
  },
  {
   "cell_type": "code",
   "execution_count": null,
   "id": "47dddb56-deee-4893-8001-ddace7e6f9d9",
   "metadata": {},
   "outputs": [],
   "source": [
    "d.side3"
   ]
  },
  {
   "cell_type": "code",
   "execution_count": null,
   "id": "306368ef-4184-49d4-8f33-f010b0a1c3e7",
   "metadata": {},
   "outputs": [],
   "source": [
    "d.perimeter()"
   ]
  },
  {
   "cell_type": "code",
   "execution_count": null,
   "id": "33870b62-2660-4473-b944-bf3eb50243fb",
   "metadata": {},
   "outputs": [],
   "source": [
    "d._semiperimeter()"
   ]
  },
  {
   "cell_type": "code",
   "execution_count": null,
   "id": "54a8e3f6-eb2c-422a-81ac-26e81a5c159f",
   "metadata": {},
   "outputs": [],
   "source": [
    "d.area()"
   ]
  },
  {
   "cell_type": "code",
   "execution_count": null,
   "id": "30759b18-4ce1-4d07-b6f1-9b0e60715cf2",
   "metadata": {},
   "outputs": [],
   "source": [
    "print(d)"
   ]
  },
  {
   "cell_type": "code",
   "execution_count": null,
   "id": "a3fadb01-b28e-44e4-b28b-b5fe2b30ca66",
   "metadata": {},
   "outputs": [],
   "source": [
    "print(repr(d))"
   ]
  },
  {
   "cell_type": "code",
   "execution_count": null,
   "id": "b5f31537-44e0-4316-a28b-b6337a98efa7",
   "metadata": {},
   "outputs": [],
   "source": [
    "class Cone(Triangle, Circle):\n",
    "    \"\"\"\n",
    "    Clase Cone para definir y utilizar ramas de cono truncadas\n",
    "    por un plano horizontal. Una tal rama es la revolución de un\n",
    "    triángulo rectángulo, por lo que puede ser considerada heredera\n",
    "    de la clase Triangle. Esa rama también viene dada por un círculo\n",
    "    a cierta distancia del origen cónico.\n",
    "    \"\"\"\n",
    "    def _pitagoras(self,side1,side2):\n",
    "        return sqrt(side1**2+side2**2)\n",
    "\n",
    "    def __init__(self, radius, height, **kwargs):\n",
    "         generatrix = self._pitagoras(radius,height)\n",
    "         super().__init__(side1=radius, side2=height, side3=generatrix, radius=radius, **kwargs)\n",
    "                                    # Pasa todos los argumentos en un esquema clave=valor\n",
    "                                    # para evitar problemas con\n",
    "                                    # argumentos posicionales y el orden\n",
    "                                    # de las clases padre.\n",
    "                                    # Dejamos preparado para heredar de Cone\n",
    "    def lateral_area(self):\n",
    "        return pi * self.radius * self.side3\n",
    "\n",
    "    def perimeter(self):\n",
    "        \"\"\"\n",
    "        En una generalización \"audaz\" vamos a considerar que al aumentar de\n",
    "        dimensión el perímetro (que tiene dimensión uno menos) se materializa \n",
    "        en el área total de la rama de cono truncado por un plano paralelo al XY.\n",
    "        \"\"\"\n",
    "        return self.lateral_area() + Circle.area(self)\n",
    "\n",
    "    def area (self):\n",
    "        \"\"\"\n",
    "        En una generalización \"audaz\" vamos a considerar que al aumentar de\n",
    "        dimensión el área (que tiene la dimensión de la figura) se materializa \n",
    "        en el volumen de la rama de cono truncado por un plano paralelo al XY.\n",
    "        \"\"\"\n",
    "        return Circle.area(self) * self.side2 / 3\n",
    "\n",
    "    def __repr__(self):\n",
    "        return f'Cone({self.radius},{self.side2})'\n",
    "\n",
    "#    # esta versión de __str__ es sugerente para la informática pero poco significativa en matemáticas\n",
    "#    def __str__(self):\n",
    "#           return Circle.__str__(self) + \", \" + Triangle.__str__(self)\n",
    "\n",
    "    def __str__(self):\n",
    "        s0,s1 = self.radius, self.side2\n",
    "        s3, s4 = self.perimeter(), self.area()\n",
    "        return \"T({0},{1},{2} u^2,{3} u^3)\".format(s0,s1,s3,s4)"
   ]
  },
  {
   "cell_type": "markdown",
   "id": "875f6b29-3ec4-4085-b4f8-cc6ca6830426",
   "metadata": {},
   "source": [
    "## Prueba"
   ]
  },
  {
   "cell_type": "code",
   "execution_count": null,
   "id": "de439bd6-2a70-4576-a83e-66f1fad356ba",
   "metadata": {},
   "outputs": [],
   "source": [
    "cono1 = Cone(4,3)"
   ]
  },
  {
   "cell_type": "code",
   "execution_count": null,
   "id": "e87b5d23-a20e-4eb9-b769-4b68cbe1d0ae",
   "metadata": {},
   "outputs": [],
   "source": [
    "cono1"
   ]
  },
  {
   "cell_type": "code",
   "execution_count": null,
   "id": "3d0edde4-604a-4484-bac7-a20adb325cde",
   "metadata": {},
   "outputs": [],
   "source": [
    "cono1.lateral_area()"
   ]
  },
  {
   "cell_type": "code",
   "execution_count": null,
   "id": "f7c435c8-4398-446e-8a30-5498cee6dda3",
   "metadata": {},
   "outputs": [],
   "source": [
    "cono1.perimeter()"
   ]
  },
  {
   "cell_type": "code",
   "execution_count": null,
   "id": "d3905749-9d55-4dab-8e83-217d6394b021",
   "metadata": {},
   "outputs": [],
   "source": [
    "cono1.area()"
   ]
  },
  {
   "cell_type": "code",
   "execution_count": null,
   "id": "ab345224-dd11-4968-a12f-30ca94a6d3e1",
   "metadata": {},
   "outputs": [],
   "source": [
    "cono1"
   ]
  },
  {
   "cell_type": "code",
   "execution_count": null,
   "id": "59dc5c51-0950-42a6-9014-eb76ba6d238c",
   "metadata": {},
   "outputs": [],
   "source": [
    "print(cono1)"
   ]
  },
  {
   "cell_type": "code",
   "execution_count": null,
   "id": "15b8f879-867c-47fc-9d1d-27169d84a74d",
   "metadata": {},
   "outputs": [],
   "source": [
    "cono2=Cone(8,18)"
   ]
  },
  {
   "cell_type": "code",
   "execution_count": null,
   "id": "87723ae5-798c-4ad2-bc8b-f43faed63e97",
   "metadata": {},
   "outputs": [],
   "source": [
    "cono2"
   ]
  },
  {
   "cell_type": "code",
   "execution_count": null,
   "id": "76be5293-1775-431f-9f07-9ed54c86755f",
   "metadata": {},
   "outputs": [],
   "source": [
    "print(cono2)"
   ]
  },
  {
   "cell_type": "markdown",
   "id": "8d383039-6a92-487f-9664-ee94522f4bc6",
   "metadata": {},
   "source": [
    "## Obtención de Información sobre Clases"
   ]
  },
  {
   "cell_type": "code",
   "execution_count": null,
   "id": "8a1fd976-a8d0-433b-bfd3-7cb6e27ebe60",
   "metadata": {},
   "outputs": [],
   "source": [
    "Cone.__name__"
   ]
  },
  {
   "cell_type": "code",
   "execution_count": null,
   "id": "51f26eb3-01cb-470c-8ff8-39d64dd6df82",
   "metadata": {},
   "outputs": [],
   "source": [
    "Cone.__doc__"
   ]
  },
  {
   "cell_type": "code",
   "execution_count": null,
   "id": "ad73510a-5050-483b-ae87-672de609067f",
   "metadata": {},
   "outputs": [],
   "source": [
    "print(Cone.__doc__)"
   ]
  },
  {
   "cell_type": "code",
   "execution_count": null,
   "id": "52df578b-6221-43d8-ad67-bc61beb0270e",
   "metadata": {},
   "outputs": [],
   "source": [
    "dir(Cone)"
   ]
  },
  {
   "cell_type": "code",
   "execution_count": null,
   "id": "604c0ac4-1c37-4387-8fed-d09e3371ff2a",
   "metadata": {},
   "outputs": [],
   "source": [
    "Cone.__dict__"
   ]
  },
  {
   "cell_type": "code",
   "execution_count": null,
   "id": "c4b662b8-70f9-4eb7-a97d-2fcb5c1ca1cf",
   "metadata": {},
   "outputs": [],
   "source": [
    "Cone.__module__"
   ]
  },
  {
   "cell_type": "code",
   "execution_count": null,
   "id": "66896f82-19b6-49a9-bfa0-043118f80c62",
   "metadata": {},
   "outputs": [],
   "source": [
    "Cone.__bases__"
   ]
  },
  {
   "cell_type": "code",
   "execution_count": null,
   "id": "b88df825-446f-47b1-8251-7e63e328ae3a",
   "metadata": {},
   "outputs": [],
   "source": [
    "print(\"MRO:\", Cone.__mro__)"
   ]
  },
  {
   "cell_type": "markdown",
   "id": "f38b703a-bacc-47fd-a219-667aba3b03e4",
   "metadata": {},
   "source": [
    "## Ejercicios"
   ]
  },
  {
   "cell_type": "markdown",
   "id": "00e55538-55c7-4539-b3c3-d3b466a61a2d",
   "metadata": {},
   "source": [
    "1. Escribar el código para una clase que simule con plena funcionalidad el comportamiento de los números racionales."
   ]
  },
  {
   "cell_type": "markdown",
   "id": "19f341c6-e160-460d-8387-268f1ec3868d",
   "metadata": {},
   "source": [
    "## Bibliografía y Enlaces"
   ]
  },
  {
   "cell_type": "markdown",
   "id": "63b1f6da-0c52-4a97-93ff-43fc347ff520",
   "metadata": {},
   "source": [
    "Para ampliar esta información puede consultar:\n",
    "\n",
    "* [abc — Abstract Base Classes](https://docs.python.org/es/3.13/library/abc.html#abc.abstractmethod)\n",
    "* [Calling parent class __init__ with multiple inheritance, what's the right way?](https://stackoverflow.com/questions/9575409/calling-parent-class-init-with-multiple-inheritance-whats-the-right-way)\n",
    "* [Decoradores en Python: ¿Qué son y cómo funcionan?](https://www.programaenpython.com/avanzado/decoradores-en-python/)\n",
    "* [OOPs Concepts in Python](https://www.geekster.in/articles/oops-concepts-in-python/)\n",
    "* [Python Object-Oriented Programming](https://www.w3resource.com/python-exercises/oop/python-oop-exercise-4.php)\n",
    "* [Python `Super()` with `__Init__()` Method](https://www.geeksforgeeks.org/python-super-with-__init__-method/)\n",
    "* Ramalho, L.; [Fluent Python](https://github.com/WeitaoZhu/Python/blob/master/Fluent.Python.2nd.Edition.(z-lib.org).pdf). O'Really, 2015.\n",
    "* Sweigart, A.; [Automate the Boring Stuff with Python](https://automatetheboringstuff.com/). No Starch Press, [2015](https://archive.org/details/Automate-Boring-Stuff-Python-2nd/page/n7/mode/2up).\n",
    "* [Understanding Python `super()` with `__init__()` methods](https://stackoverflow.com/questions/576169/understanding-python-super-with-init-methods)"
   ]
  }
 ],
 "metadata": {
  "kernelspec": {
   "display_name": "Python 3 (ipykernel)",
   "language": "python",
   "name": "python3"
  },
  "language_info": {
   "codemirror_mode": {
    "name": "ipython",
    "version": 3
   },
   "file_extension": ".py",
   "mimetype": "text/x-python",
   "name": "python",
   "nbconvert_exporter": "python",
   "pygments_lexer": "ipython3",
   "version": "3.9.12"
  }
 },
 "nbformat": 4,
 "nbformat_minor": 5
}
