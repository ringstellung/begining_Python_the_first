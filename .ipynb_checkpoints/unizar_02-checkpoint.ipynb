{
 "cells": [
  {
   "cell_type": "markdown",
   "id": "9746fba0-78f1-4d3c-82ac-47c71511fdac",
   "metadata": {},
   "source": [
    "# Curso Elemental de Python. Cuaderno 02"
   ]
  },
  {
   "cell_type": "markdown",
   "id": "7010212b-b3fe-42b0-a06a-ea0c2d3a490f",
   "metadata": {},
   "source": [
    "## Listas"
   ]
  },
  {
   "cell_type": "markdown",
   "id": "4f3d729b-50b0-4355-8ca2-25416760a4f0",
   "metadata": {},
   "source": [
    "La lista es el tipo de datos más versátil disponible en Python, que se puede escribir como una lista de valores (elementos) separados por comas entre corchetes. Lo importante de una lista es que sus entradas no necesitan ser del mismo tipo.\n",
    "\n",
    "Crear una lista es tan simple como poner diferentes valores separados por comas entre corchetes."
   ]
  },
  {
   "cell_type": "code",
   "execution_count": null,
   "id": "9f1dc5fd-6175-40a0-8fac-cbf3b380a041",
   "metadata": {},
   "outputs": [],
   "source": [
    "lst1 = ['mathematic', 'history', 2019, 2020]"
   ]
  },
  {
   "cell_type": "code",
   "execution_count": null,
   "id": "37cd622b-e64d-490e-820c-838446399923",
   "metadata": {},
   "outputs": [],
   "source": [
    "lst1[0]"
   ]
  },
  {
   "cell_type": "code",
   "execution_count": null,
   "id": "bedeaf19-f4af-417b-a290-2a5c8c820967",
   "metadata": {},
   "outputs": [],
   "source": [
    "lst1[3]"
   ]
  },
  {
   "cell_type": "code",
   "execution_count": null,
   "id": "e3a30913-2527-4583-8d55-8fd0109e8f78",
   "metadata": {},
   "outputs": [],
   "source": [
    "lst1[4]"
   ]
  },
  {
   "cell_type": "code",
   "execution_count": null,
   "id": "604d664e-d9fa-4def-be01-31d6be5e6814",
   "metadata": {},
   "outputs": [],
   "source": [
    "lst1[-1]"
   ]
  },
  {
   "cell_type": "code",
   "execution_count": null,
   "id": "12e9e247-e0e5-41a7-a454-e25173092841",
   "metadata": {},
   "outputs": [],
   "source": [
    "for i in lst1:\n",
    "    print(i)"
   ]
  },
  {
   "cell_type": "code",
   "execution_count": null,
   "id": "c33bcdca-f1c1-415c-819b-20774d279fcd",
   "metadata": {},
   "outputs": [],
   "source": [
    "for i in range(1,len(lst1)+1):\n",
    "    print(lst1[-i])"
   ]
  },
  {
   "cell_type": "code",
   "execution_count": null,
   "id": "514cb1de-d5ef-4d76-b68d-52a1892f0d71",
   "metadata": {},
   "outputs": [],
   "source": [
    "lst2 = []"
   ]
  },
  {
   "cell_type": "code",
   "execution_count": null,
   "id": "a3dd2503-e6f3-4bfc-99d2-575152dbe4fc",
   "metadata": {},
   "outputs": [],
   "source": [
    "len(lst1)"
   ]
  },
  {
   "cell_type": "code",
   "execution_count": null,
   "id": "7fe88d43-04ee-49f6-bb01-f1961aeab70c",
   "metadata": {},
   "outputs": [],
   "source": [
    "len(lst2)"
   ]
  },
  {
   "cell_type": "code",
   "execution_count": null,
   "id": "87d8f23a-7c5c-4354-b956-9ea75fa0c109",
   "metadata": {},
   "outputs": [],
   "source": [
    "lst3 = [2,0,1,-1,3]"
   ]
  },
  {
   "cell_type": "code",
   "execution_count": null,
   "id": "389bb747-b2f8-4e24-9404-abf8ab26f591",
   "metadata": {},
   "outputs": [],
   "source": [
    "max(lst3)"
   ]
  },
  {
   "cell_type": "code",
   "execution_count": null,
   "id": "09acf277-6e13-4ecb-91c0-ac2202a63e54",
   "metadata": {},
   "outputs": [],
   "source": [
    "min(lst3)"
   ]
  },
  {
   "cell_type": "markdown",
   "id": "8c1127a6-a127-4095-b9ab-e5a1207caa32",
   "metadata": {},
   "source": [
    "#### Tratamiento de listas"
   ]
  },
  {
   "cell_type": "code",
   "execution_count": null,
   "id": "2bd46d21-b5e3-4e76-9c95-36dca91cefcf",
   "metadata": {},
   "outputs": [],
   "source": [
    "a = ['toyota','suzuki','honda','subaru']; a"
   ]
  },
  {
   "cell_type": "code",
   "execution_count": null,
   "id": "1440b311-102e-4249-94c3-931c0777441e",
   "metadata": {},
   "outputs": [],
   "source": [
    "b = ['lexus','toyota','daihatsu','toyota']; b"
   ]
  },
  {
   "cell_type": "code",
   "execution_count": null,
   "id": "71642dfe-f5cf-45d9-9dfa-8fb85c1537b9",
   "metadata": {},
   "outputs": [],
   "source": [
    "a.extend(b); a"
   ]
  },
  {
   "cell_type": "code",
   "execution_count": null,
   "id": "51d1ab53-c3cb-4a00-b5cf-620fea21273d",
   "metadata": {},
   "outputs": [],
   "source": [
    "a = ['toyota','suzuki','honda','subaru']; a"
   ]
  },
  {
   "cell_type": "code",
   "execution_count": null,
   "id": "66bc61df-b462-440e-afa7-45122bd8e23d",
   "metadata": {},
   "outputs": [],
   "source": [
    "b = ['lexus','toyota','daihatsu','toyota']; b"
   ]
  },
  {
   "cell_type": "code",
   "execution_count": null,
   "id": "35b53c24-4580-47e7-8808-c7587559e1db",
   "metadata": {},
   "outputs": [],
   "source": [
    "a += b"
   ]
  },
  {
   "cell_type": "code",
   "execution_count": null,
   "id": "94728739-6cde-4a85-8a8b-2d66abd9c988",
   "metadata": {},
   "outputs": [],
   "source": [
    "a"
   ]
  },
  {
   "cell_type": "code",
   "execution_count": null,
   "id": "f23ba3a0-f3e9-4798-94b7-2543de9d2964",
   "metadata": {},
   "outputs": [],
   "source": [
    "a = ['toyota','suzuki','honda','subaru']; a"
   ]
  },
  {
   "cell_type": "code",
   "execution_count": null,
   "id": "de096e0d-44e8-4fcf-9d1c-febe34286858",
   "metadata": {},
   "outputs": [],
   "source": [
    "b = ['lexus','toyota','daihatsu','toyota']; b"
   ]
  },
  {
   "cell_type": "code",
   "execution_count": null,
   "id": "8eddf504-bc06-4347-9729-d72cdc7320a1",
   "metadata": {},
   "outputs": [],
   "source": [
    "c = [*a,*b]; a"
   ]
  },
  {
   "cell_type": "code",
   "execution_count": null,
   "id": "56506771-6f20-41f1-8e61-833e5cb78244",
   "metadata": {},
   "outputs": [],
   "source": [
    "c"
   ]
  },
  {
   "cell_type": "code",
   "execution_count": null,
   "id": "b64ca340-997b-490b-b066-8f00bd60792b",
   "metadata": {},
   "outputs": [],
   "source": [
    "a.insert(2,'nissan'); a"
   ]
  },
  {
   "cell_type": "code",
   "execution_count": null,
   "id": "8df3c101-0509-49a7-97bf-3bc229ec03a9",
   "metadata": {},
   "outputs": [],
   "source": [
    "a.insert(4,'nissan'); a"
   ]
  },
  {
   "cell_type": "code",
   "execution_count": null,
   "id": "abb8d2fd-d3c3-4e07-83dc-2582f5bbce08",
   "metadata": {},
   "outputs": [],
   "source": [
    "a.index('nissan')"
   ]
  },
  {
   "cell_type": "code",
   "execution_count": null,
   "id": "dc07fe36-f366-4cb4-b160-d9a2739ad3d4",
   "metadata": {},
   "outputs": [],
   "source": [
    "a.index('toyota',6,9)"
   ]
  },
  {
   "cell_type": "code",
   "execution_count": null,
   "id": "546a3b86-8c3a-44f8-9f96-13dd38418855",
   "metadata": {},
   "outputs": [],
   "source": [
    "a.count('toyota')"
   ]
  },
  {
   "cell_type": "code",
   "execution_count": null,
   "id": "40141073-a91d-4b19-939e-6be858ae8d50",
   "metadata": {},
   "outputs": [],
   "source": [
    "a.remove('nissan'); a"
   ]
  },
  {
   "cell_type": "code",
   "execution_count": null,
   "id": "e4561c6b-312a-4779-b43f-b79abf11e5e3",
   "metadata": {},
   "outputs": [],
   "source": [
    "a.append('nissan');a"
   ]
  },
  {
   "cell_type": "code",
   "execution_count": null,
   "id": "d095c40a-f63e-40a2-ae0b-3fb75e101e74",
   "metadata": {},
   "outputs": [],
   "source": [
    "for i in range(a.count('nissan')):\n",
    "    print(a.count('nissan'))\n",
    "    a.remove('nissan')"
   ]
  },
  {
   "cell_type": "code",
   "execution_count": null,
   "id": "65059677-1ce8-40f7-a529-d11b5baada7e",
   "metadata": {},
   "outputs": [],
   "source": [
    "a"
   ]
  },
  {
   "cell_type": "code",
   "execution_count": null,
   "id": "a93aa387-9c21-4443-85cf-a3d477cf92dd",
   "metadata": {},
   "outputs": [],
   "source": [
    "a.append(['nissan']); a[-1]"
   ]
  },
  {
   "cell_type": "code",
   "execution_count": null,
   "id": "2519ca18-b706-4d53-a2dc-29fc177105f8",
   "metadata": {},
   "outputs": [],
   "source": [
    "a"
   ]
  },
  {
   "cell_type": "code",
   "execution_count": null,
   "id": "c2f331f1-ef91-4d7b-972c-bb16d85d6211",
   "metadata": {},
   "outputs": [],
   "source": [
    "a.pop()"
   ]
  },
  {
   "cell_type": "code",
   "execution_count": null,
   "id": "e0128a88-791e-4af5-8619-f18008ecfcbb",
   "metadata": {},
   "outputs": [],
   "source": [
    "a"
   ]
  },
  {
   "cell_type": "code",
   "execution_count": null,
   "id": "1cd89260-a8ba-4719-9d5a-ae41f219e3fa",
   "metadata": {},
   "outputs": [],
   "source": [
    "a.clear()"
   ]
  },
  {
   "cell_type": "code",
   "execution_count": null,
   "id": "5a22332a-72e3-4a12-b3d9-0a981bfee993",
   "metadata": {},
   "outputs": [],
   "source": [
    "a"
   ]
  },
  {
   "cell_type": "markdown",
   "id": "d8d76d40-70d1-40f1-ac4a-eca9268f6106",
   "metadata": {},
   "source": [
    "De una lista es posible tomar su último elemento y a simultáneamente modificarla quitándoselo."
   ]
  },
  {
   "cell_type": "code",
   "execution_count": null,
   "id": "228ba73d-0121-48e4-8b21-d01a25dc7569",
   "metadata": {},
   "outputs": [],
   "source": [
    "lst = [0,1,2,3,4]"
   ]
  },
  {
   "cell_type": "code",
   "execution_count": null,
   "id": "385de902-306b-4f5e-b63d-6e64961dfde9",
   "metadata": {},
   "outputs": [],
   "source": [
    "lst.pop()"
   ]
  },
  {
   "cell_type": "code",
   "execution_count": null,
   "id": "f86780f2-28d6-4b17-b3fc-8465f0e70a36",
   "metadata": {},
   "outputs": [],
   "source": [
    "lst"
   ]
  },
  {
   "cell_type": "markdown",
   "id": "44558d0b-220b-497a-8602-a9a7fefc9385",
   "metadata": {},
   "source": [
    "Es posible generar cómodamente listas repetitivas"
   ]
  },
  {
   "cell_type": "code",
   "execution_count": null,
   "id": "ab61bf78-9a8a-4ae8-8ccf-ff52b06bbc3d",
   "metadata": {},
   "outputs": [],
   "source": [
    "[0]*10"
   ]
  },
  {
   "cell_type": "code",
   "execution_count": null,
   "id": "35c6c4ba-eb22-4745-9e3b-eb438bf1c488",
   "metadata": {},
   "outputs": [],
   "source": [
    "lst * 5"
   ]
  },
  {
   "cell_type": "markdown",
   "id": "882d2866-9fb8-4bb4-b0e6-3c46298b1e2a",
   "metadata": {},
   "source": [
    "#### La Ordenación: el método `sort` frente a la función `sorted`"
   ]
  },
  {
   "cell_type": "code",
   "execution_count": null,
   "id": "955b1038-7070-4125-937a-3e5af75dfd9d",
   "metadata": {},
   "outputs": [],
   "source": [
    "a = ['toyota','suzuki','honda','subaru']; a"
   ]
  },
  {
   "cell_type": "code",
   "execution_count": null,
   "id": "3648f244-297b-4baf-939f-68abf5671f8d",
   "metadata": {},
   "outputs": [],
   "source": [
    "sorted(a)"
   ]
  },
  {
   "cell_type": "code",
   "execution_count": null,
   "id": "c316d678-8f62-4afc-911f-afe75d71f959",
   "metadata": {},
   "outputs": [],
   "source": [
    "a"
   ]
  },
  {
   "cell_type": "code",
   "execution_count": null,
   "id": "8f0db194-386f-4c29-bc1d-fcd7e355e1fb",
   "metadata": {},
   "outputs": [],
   "source": [
    "a.sort()"
   ]
  },
  {
   "cell_type": "code",
   "execution_count": null,
   "id": "ccb3bcce-1f58-4636-8149-0a5d6f39cbd1",
   "metadata": {},
   "outputs": [],
   "source": [
    "a"
   ]
  },
  {
   "cell_type": "markdown",
   "id": "8196b294-5a11-4440-b982-2a2d11376e63",
   "metadata": {},
   "source": [
    "### `string`"
   ]
  },
  {
   "cell_type": "markdown",
   "id": "2df9d413-90d2-4422-9fbc-dd95baa4a9ca",
   "metadata": {},
   "source": [
    "En algunos lenguajes el `string` es una lista de caracteres, pero en Python no es el caso pues existe un tipo específico para la estructura a la que llamaremos **cadena de caracteres**. Python está especialmente adaptado a la manipulación de cadenas de caracteres."
   ]
  },
  {
   "cell_type": "code",
   "execution_count": null,
   "id": "9f7d9d11-f09e-4e3c-9c56-46353e29e4de",
   "metadata": {},
   "outputs": [],
   "source": [
    "cadena = 'la verdad real es tan increible que se desacredita a sí misma'; cadena"
   ]
  },
  {
   "cell_type": "code",
   "execution_count": null,
   "id": "511cb73b-4a3b-433e-849f-9d9ff1b079ed",
   "metadata": {},
   "outputs": [],
   "source": [
    "type(cadena)"
   ]
  },
  {
   "cell_type": "markdown",
   "id": "c4c968b8-5b67-4860-8f06-2f3ee403bfb1",
   "metadata": {},
   "source": [
    "#### Tratamiento de Cadenas de Caracteres"
   ]
  },
  {
   "cell_type": "code",
   "execution_count": null,
   "id": "3de6d3aa-c218-457f-a557-81e476ee9287",
   "metadata": {},
   "outputs": [],
   "source": [
    "'capitalizar'.upper()"
   ]
  },
  {
   "cell_type": "code",
   "execution_count": null,
   "id": "d9fcda9f-5a90-470e-a8dc-cd7f9bccbde5",
   "metadata": {},
   "outputs": [],
   "source": [
    "'CapiTalizar'.lower()"
   ]
  },
  {
   "cell_type": "code",
   "execution_count": null,
   "id": "a2e5ce07-e683-4073-a87f-b9d237506854",
   "metadata": {},
   "outputs": [],
   "source": [
    "x = '     abracadabra   '"
   ]
  },
  {
   "cell_type": "code",
   "execution_count": null,
   "id": "b40e2b5e-226c-4339-a44f-cfa07fb93e0b",
   "metadata": {},
   "outputs": [],
   "source": [
    "x.lstrip()"
   ]
  },
  {
   "cell_type": "code",
   "execution_count": null,
   "id": "cc735f1f-5773-46aa-bf95-138385c506e1",
   "metadata": {},
   "outputs": [],
   "source": [
    "x.rstrip()"
   ]
  },
  {
   "cell_type": "code",
   "execution_count": null,
   "id": "69bdfb9f-51ce-4eae-a3f4-49f98974a47d",
   "metadata": {},
   "outputs": [],
   "source": [
    "x.strip()"
   ]
  },
  {
   "cell_type": "code",
   "execution_count": null,
   "id": "878185d1-675b-449c-b288-0d6eae38ee69",
   "metadata": {},
   "outputs": [],
   "source": [
    "a = 'aaaaabacd_aefg_hijk_lmno_pqrs_tuvw_xyz_aaaa'"
   ]
  },
  {
   "cell_type": "code",
   "execution_count": null,
   "id": "8bb0ee86-580c-4845-85fb-1cd5f3eb5386",
   "metadata": {},
   "outputs": [],
   "source": [
    "a.lstrip('a')"
   ]
  },
  {
   "cell_type": "code",
   "execution_count": null,
   "id": "328ebe3e-0485-4f71-88bb-d986eb5e308a",
   "metadata": {},
   "outputs": [],
   "source": [
    "a.rstrip('a')"
   ]
  },
  {
   "cell_type": "code",
   "execution_count": null,
   "id": "e0586a7c-0872-48c4-9fdd-15f2af165a2a",
   "metadata": {},
   "outputs": [],
   "source": [
    "a.strip('a')"
   ]
  },
  {
   "cell_type": "code",
   "execution_count": null,
   "id": "12066623-b828-4c6b-a0db-ee8f2991a001",
   "metadata": {},
   "outputs": [],
   "source": [
    "a = ' abracadabra '"
   ]
  },
  {
   "cell_type": "code",
   "execution_count": null,
   "id": "0603953a-bc9b-4663-b7ce-2e4c11911e2f",
   "metadata": {},
   "outputs": [],
   "source": [
    "list(enumerate(a))"
   ]
  },
  {
   "cell_type": "code",
   "execution_count": null,
   "id": "782d5246-0d62-4ec9-8da3-21650368f2c9",
   "metadata": {},
   "outputs": [],
   "source": [
    "x,y=1,0"
   ]
  },
  {
   "cell_type": "code",
   "execution_count": null,
   "id": "19cd6388-80c5-40e7-8f1d-b2dfe23ee066",
   "metadata": {},
   "outputs": [],
   "source": [
    "x"
   ]
  },
  {
   "cell_type": "code",
   "execution_count": null,
   "id": "ebf2dd03-ac99-4715-ba23-dc7ad976a8cd",
   "metadata": {},
   "outputs": [],
   "source": [
    "y"
   ]
  },
  {
   "cell_type": "code",
   "execution_count": null,
   "id": "77631532-18ce-4d30-b0e7-b9a7f8e284fd",
   "metadata": {},
   "outputs": [],
   "source": [
    "[i for i, v in enumerate(a) if v == 'a']"
   ]
  },
  {
   "cell_type": "code",
   "execution_count": null,
   "id": "ef7461c1-b4f9-472d-b52e-f8bc4696f399",
   "metadata": {},
   "outputs": [],
   "source": [
    "[v for  v in a if v != 'a']"
   ]
  },
  {
   "cell_type": "code",
   "execution_count": null,
   "id": "b0fa6318-0d75-459d-b580-b7fb526361f9",
   "metadata": {},
   "outputs": [],
   "source": [
    "'x'.join([v for  v in a if v != 'a'])"
   ]
  },
  {
   "cell_type": "code",
   "execution_count": null,
   "id": "aadf7bb3-f8f9-4d0b-bab3-3a43b0aa2f01",
   "metadata": {},
   "outputs": [],
   "source": [
    "ns = a.replace('br','rb'); ns"
   ]
  },
  {
   "cell_type": "code",
   "execution_count": null,
   "id": "2a5a94f3-3665-4529-8674-5b0f8cf9b46f",
   "metadata": {},
   "outputs": [],
   "source": [
    "a.replace('br','rb',0)"
   ]
  },
  {
   "cell_type": "code",
   "execution_count": null,
   "id": "09fb3874-7beb-4fdd-911a-1300a6bc0f9c",
   "metadata": {},
   "outputs": [],
   "source": [
    "a.replace('br','rb',1)"
   ]
  },
  {
   "cell_type": "code",
   "execution_count": null,
   "id": "da833739-410c-4c5b-9067-fa361250a7d1",
   "metadata": {},
   "outputs": [],
   "source": [
    "a"
   ]
  },
  {
   "cell_type": "code",
   "execution_count": null,
   "id": "36cd9b53-b109-4254-9f43-b1158b45e3d4",
   "metadata": {},
   "outputs": [],
   "source": [
    "'abracadabra'.find('ra') # la primera secuencia 'ra' comienza en la posición 2"
   ]
  },
  {
   "cell_type": "code",
   "execution_count": null,
   "id": "67dfb192-2ffa-4cff-9edb-bca5ddcb5094",
   "metadata": {},
   "outputs": [],
   "source": [
    "'abracadabra'.count('ab')"
   ]
  },
  {
   "cell_type": "code",
   "execution_count": null,
   "id": "66a9c3db-df9f-431d-9aa2-f4196f872166",
   "metadata": {},
   "outputs": [],
   "source": [
    "r = 'la     utilidaaaad de la cadena de texto'"
   ]
  },
  {
   "cell_type": "code",
   "execution_count": null,
   "id": "aca1192f-31de-4723-b7f5-51eff44558c3",
   "metadata": {},
   "outputs": [],
   "source": [
    "r.split()"
   ]
  },
  {
   "cell_type": "code",
   "execution_count": null,
   "id": "145175e7-5d0a-48af-83b5-2ac6127823b7",
   "metadata": {},
   "outputs": [],
   "source": [
    "r.split('a')"
   ]
  },
  {
   "cell_type": "code",
   "execution_count": null,
   "id": "58f08743-302e-4cfa-800a-6e3115b44d84",
   "metadata": {},
   "outputs": [],
   "source": [
    "''.join(r.split('a'))"
   ]
  },
  {
   "cell_type": "markdown",
   "id": "597d03a7-cdc2-43f6-af34-772dcd43f9d6",
   "metadata": {},
   "source": [
    "### `dict`"
   ]
  },
  {
   "cell_type": "markdown",
   "id": "11ac5705-7f60-423d-ae1f-73cd7bf17b01",
   "metadata": {},
   "source": [
    "El diccionario es otro de los tipos básicos de Python. Puede ser comprendido como un glosario y en un sentido más preciso, matemático, como una función cuyo dominio es finito y está dada por extensión. El diccionario se compone de una cantidad finita de parejas del tipo clave:valor separadas por comas."
   ]
  },
  {
   "cell_type": "code",
   "execution_count": null,
   "id": "613e23df-d910-412e-93ef-ffa093d77876",
   "metadata": {},
   "outputs": [],
   "source": [
    "coches = {}"
   ]
  },
  {
   "cell_type": "code",
   "execution_count": null,
   "id": "aed60b71-cd78-43f2-9235-8e25a841971a",
   "metadata": {},
   "outputs": [],
   "source": [
    "type(coches)"
   ]
  },
  {
   "cell_type": "code",
   "execution_count": null,
   "id": "071f71be-604a-4f3e-a068-282bbb6f86af",
   "metadata": {},
   "outputs": [],
   "source": [
    "coches['Toyota'] = 'Japon'"
   ]
  },
  {
   "cell_type": "code",
   "execution_count": null,
   "id": "ee637e87-f3d2-440a-8414-14af2fca3948",
   "metadata": {},
   "outputs": [],
   "source": [
    "coches"
   ]
  },
  {
   "cell_type": "code",
   "execution_count": null,
   "id": "3802ca9e-a7bd-487d-a2a9-e761556140be",
   "metadata": {},
   "outputs": [],
   "source": [
    "coches = {'Toyota' : 'Japon', 'Honda' : 'Japon', 'Volkswagen' : 'Alemania'}"
   ]
  },
  {
   "cell_type": "code",
   "execution_count": null,
   "id": "84c7dd50-afc6-4dfd-80f1-444ea13f2b77",
   "metadata": {},
   "outputs": [],
   "source": [
    "coches['Toyota'] = 'Islas del Japon'"
   ]
  },
  {
   "cell_type": "code",
   "execution_count": null,
   "id": "ff48f9c4-2516-463e-833c-12ee7ac7875d",
   "metadata": {},
   "outputs": [],
   "source": [
    "coches"
   ]
  },
  {
   "cell_type": "code",
   "execution_count": null,
   "id": "648367d2-7f80-46a4-a8dc-71fdaade08c0",
   "metadata": {},
   "outputs": [],
   "source": [
    "print('Toyota es una marca de: {0}'.format(coches['Toyota']))"
   ]
  },
  {
   "cell_type": "markdown",
   "id": "03f6a35f-22d9-4ad2-8552-fcc0b3499c5d",
   "metadata": {},
   "source": [
    "En los diccionarios, las claves deben ser instancias de tipos de dato estáticos."
   ]
  },
  {
   "cell_type": "code",
   "execution_count": null,
   "id": "158e2217-d9c2-46f7-a37d-9ed8a727eae8",
   "metadata": {},
   "outputs": [],
   "source": [
    "dic = { [1,2,3]:\"abc\"}"
   ]
  },
  {
   "cell_type": "code",
   "execution_count": null,
   "id": "e0782e8b-0e5e-4ba9-9316-9e703fdb8d68",
   "metadata": {},
   "outputs": [],
   "source": [
    "dic = { (1,2,3):\"abc\", 3.1415:\"abc\"}"
   ]
  },
  {
   "cell_type": "markdown",
   "id": "5ab5746b-fbdc-4f28-bea5-c02a3b63242a",
   "metadata": {},
   "source": [
    "El diccionario viene a ser una función dada por extensión; así pues, los diccionarios pueden ser compuestos."
   ]
  },
  {
   "cell_type": "code",
   "execution_count": null,
   "id": "c79751d6-ea09-4f7c-a3a3-b291b668c8f6",
   "metadata": {},
   "outputs": [],
   "source": [
    "en_de = {\"red\" : \"rot\", \"green\" : \"grün\", \"blue\" : \"blau\", \"yellow\":\"gelb\"}"
   ]
  },
  {
   "cell_type": "code",
   "execution_count": null,
   "id": "5be462e8-3073-44bc-8269-7f4ccb024a73",
   "metadata": {},
   "outputs": [],
   "source": [
    "de_fr = {\"rot\" : \"rouge\", \"grün\" : \"vert\", \"blau\" : \"bleu\", \"gelb\":\"jaune\"}"
   ]
  },
  {
   "cell_type": "code",
   "execution_count": null,
   "id": "ef90e127-18b1-431d-a44f-5226138204d2",
   "metadata": {},
   "outputs": [],
   "source": [
    "\"La palabra francesa para la inglesa 'red' es: {0}\".format(de_fr[en_de[\"red\"]])"
   ]
  },
  {
   "cell_type": "markdown",
   "id": "639941ff-6784-45bc-8ccf-bb044ad755e4",
   "metadata": {},
   "source": [
    "Es posible hacer diccionarios de diccionarios ... y a veces la programación exige manipularlos así."
   ]
  },
  {
   "cell_type": "code",
   "execution_count": null,
   "id": "aa83736e-a5ce-4129-a576-f82f89a766d6",
   "metadata": {},
   "outputs": [],
   "source": [
    "diccionarios = {\"en_de\" : en_de, \"de_fr\" : de_fr }"
   ]
  },
  {
   "cell_type": "code",
   "execution_count": null,
   "id": "be70d8f1-5cbe-4abb-a9f1-960cb1f45681",
   "metadata": {},
   "outputs": [],
   "source": [
    "diccionarios[\"de_fr\"][\"blau\"]"
   ]
  },
  {
   "cell_type": "code",
   "execution_count": null,
   "id": "c66261aa-b282-4bc6-8433-ce640ebac60a",
   "metadata": {},
   "outputs": [],
   "source": [
    "diccionarios[\"de_fr\"][diccionarios[\"en_de\"]['red']]"
   ]
  },
  {
   "cell_type": "code",
   "execution_count": null,
   "id": "59a20686-aad5-412e-948d-b1d44ff0ac92",
   "metadata": {},
   "outputs": [],
   "source": [
    "def trad_en_fr(palabra:str) -> str:\n",
    "    return diccionarios[\"de_fr\"][diccionarios[\"en_de\"][palabra]]"
   ]
  },
  {
   "cell_type": "code",
   "execution_count": null,
   "id": "03797d6c-e71b-485a-b72c-ce4979b59b89",
   "metadata": {},
   "outputs": [],
   "source": [
    "trad_en_fr('red')"
   ]
  },
  {
   "cell_type": "code",
   "execution_count": null,
   "id": "a305d8bc-31e3-4de5-a71e-213478d0029c",
   "metadata": {},
   "outputs": [],
   "source": [
    "trad_en_fr('blue')"
   ]
  },
  {
   "cell_type": "markdown",
   "id": "99d9f127-6450-4d3a-a952-adc2efb7c122",
   "metadata": {},
   "source": [
    "## Ejercicios"
   ]
  },
  {
   "cell_type": "markdown",
   "id": "6b128730-1cbd-407d-bf16-c7a675929b65",
   "metadata": {},
   "source": [
    "### Listas"
   ]
  },
  {
   "cell_type": "markdown",
   "id": "085c5210-1362-41ca-a49b-8acf6db8132c",
   "metadata": {},
   "source": [
    "1. Considere las listas `lst=['a',2,3,'xw','x',0,7,-1]` y `mst = ['ab',4,2,'x',9,2,'x',0,7]`. Escriba un retazo de código que proporcione ordenados los índices de las entradas en la lista `lst` que aparecen como entradas en la lista `mst`.\n",
    "1. Escriba un retazo de código capaz de eliminar de una lista, digamos `lst=['a',2,3,'xw','x',0,7,-1]`,\n",
    "las entradas que ocurriesen al menos una vez en otra lista, digamos `mst = ['ab',4,2,'x',9,2,'x',0,7]`.\n",
    "1. Escriba un retazo de código capaz de hacer una lista que escriba en la lista `lst=['a',2,3,'xw','x',0,7,-1]`  los elementos de la lista `mst = ['ab',4,2,'x',9,2,'x',0,7]` que no apareciesen en la primera.\n",
    "1. Escriba una lista cuyas entradas sean todas igual a `0` y tenga `300` entradas."
   ]
  },
  {
   "cell_type": "markdown",
   "id": "91d39f3e-8e81-4baa-8e13-e846ee34a589",
   "metadata": {},
   "source": [
    "### `string`"
   ]
  },
  {
   "cell_type": "markdown",
   "id": "12a9f8f5-6f0f-451c-8acf-36a4cbcf4feb",
   "metadata": {},
   "source": [
    "1. Escriba un retazo de código que dada una cadena de caracteres la replique, pero sin espacios en blanco y con los caracteres en mayúsculas.\n",
    "1. Escriba un retazo de código que dada una cadena de caracteres `strng` sea capaz de construir la lista cuyas entradas correspondan con subcadenas de `strng` de longitud dos formadas por caracteres contiguos, salvo en el caso del último. Por ejemplo `'abracadabra'` debería proporcionar `['ab','ra','ca','da','br','a']`."
   ]
  },
  {
   "cell_type": "markdown",
   "id": "4b0ad507-c766-443f-86fc-ff8ca1eeb6f8",
   "metadata": {},
   "source": [
    "### `dict`"
   ]
  },
  {
   "cell_type": "markdown",
   "id": "c068df62-5923-4e7f-b07c-407c07487c9d",
   "metadata": {},
   "source": [
    "1. Idee una forma de transcribir cualquier cadena de caracteres escrita con los veintiséis caracteres del alfabeto latino sin la \"ñ\", por ejemplo \"*The secret protects itself*\", a un string de enteros cambiando cada letra por su número de orden de dos dígitos según ocurre en dicho alfabeto.\n",
    "1. Idee una forma de devolver la cadena de enteros obtenida en el apartado anterior a la cadena de caracteres que la generó.\n",
    "1. Idee un código que dada una cadena de caracteres la cambie por otra en que cada carácter de la cadena inicial sea cambiada circularmente por el que ocupa tres posiciones del alfabeto latino."
   ]
  }
 ],
 "metadata": {
  "kernelspec": {
   "display_name": "Python 3 (ipykernel)",
   "language": "python",
   "name": "python3"
  },
  "language_info": {
   "codemirror_mode": {
    "name": "ipython",
    "version": 3
   },
   "file_extension": ".py",
   "mimetype": "text/x-python",
   "name": "python",
   "nbconvert_exporter": "python",
   "pygments_lexer": "ipython3",
   "version": "3.9.12"
  }
 },
 "nbformat": 4,
 "nbformat_minor": 5
}
