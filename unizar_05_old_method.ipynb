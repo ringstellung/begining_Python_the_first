{
 "cells": [
  {
   "cell_type": "markdown",
   "id": "57cabca5-5e9a-4073-9fab-8ed50fb6bab1",
   "metadata": {},
   "source": [
    "# Ejemplos de Programación Orientada a Objetos (POO u OOP por su siglas en inglés)"
   ]
  },
  {
   "cell_type": "markdown",
   "id": "38a1f203-d877-4399-bc72-b499069cd7c4",
   "metadata": {},
   "source": [
    "## Rectángulos y Cuadrados"
   ]
  },
  {
   "cell_type": "markdown",
   "id": "ab450c6a-f673-4fd3-aa8d-a4ac1c887189",
   "metadata": {},
   "source": [
    "La situación es la siguiente:\n",
    "\n",
    "                            Object\n",
    "                              |\n",
    "                             ABC\n",
    "                              |\n",
    "                            Shape\n",
    "                       /      |     \\\n",
    "                Rectangle  Circle   Triangle \n",
    "                    /         \\        /   \\\n",
    "                Square         \\      /   Equilateral_Triangle\n",
    "                                \\    /\n",
    "                                 Cone"
   ]
  },
  {
   "cell_type": "code",
   "execution_count": null,
   "id": "678cd74b-3535-41c5-9b64-16f3764deb4b",
   "metadata": {},
   "outputs": [],
   "source": [
    "from abc import ABC, abstractmethod"
   ]
  },
  {
   "cell_type": "code",
   "execution_count": null,
   "id": "3245fc43-c93c-4b0f-a930-f38c98217cf5",
   "metadata": {},
   "outputs": [],
   "source": [
    "class Shape(ABC):\n",
    "    @abstractmethod\n",
    "    def area(self):\n",
    "        pass\n",
    "    @abstractmethod\n",
    "    def perimeter(self):\n",
    "        pass"
   ]
  },
  {
   "cell_type": "code",
   "execution_count": null,
   "id": "13aaa6c8-b15e-47bc-b00c-85e13f455f62",
   "metadata": {},
   "outputs": [],
   "source": [
    "class Rectangle(Shape):\n",
    "    \"\"\"\n",
    "    Clase para la manipulación de de rectángulos.\n",
    "    \"\"\"\n",
    "    def __init__(self, width, height):\n",
    "        self.width = width\n",
    "        self.height = height\n",
    "\n",
    "    def area(self):\n",
    "        return self.width * self.height\n",
    "\n",
    "    def perimeter(self):\n",
    "        return 2 * (self.width + self.height)\n",
    "\n",
    "    def __repr__(self):\n",
    "        return f'Rectangle({self.width},{self.height})'\n",
    "\n",
    "    def __str__(self):\n",
    "        s0,s1 = self.width, self.height\n",
    "        s2, s3 = self.area(), self.perimeter()\n",
    "        return \"R({0},{1},{2} u^2,{3} u)\".format(s0,s1,s2,s3)\n"
   ]
  },
  {
   "cell_type": "code",
   "execution_count": null,
   "id": "65ca1957-7ad9-4c90-a1cd-fcf92487fce3",
   "metadata": {},
   "outputs": [],
   "source": [
    "# class Square(Rectangle, Shape):\n",
    "class Square(Rectangle):\n",
    "    \"\"\"\n",
    "    Clase para la manipulación de rectángulos hereda de Rectangle\n",
    "    \"\"\"\n",
    "    def __init__(self, side):\n",
    "        self.width = side\n",
    "        self.height = side"
   ]
  },
  {
   "cell_type": "code",
   "execution_count": null,
   "id": "17ee2997-cb69-44e2-9777-c85e90cc8101",
   "metadata": {},
   "outputs": [],
   "source": [
    "r = Rectangle(2,3)"
   ]
  },
  {
   "cell_type": "code",
   "execution_count": null,
   "id": "d34d2b8a-6887-4350-9bee-5336afb6691f",
   "metadata": {},
   "outputs": [],
   "source": [
    "r"
   ]
  },
  {
   "cell_type": "code",
   "execution_count": null,
   "id": "2568c2cb-6a9e-47a1-a266-a3764407cb8c",
   "metadata": {},
   "outputs": [],
   "source": [
    "repr(r)"
   ]
  },
  {
   "cell_type": "code",
   "execution_count": null,
   "id": "92bad04d-ce14-4506-981c-831ab8607e5a",
   "metadata": {},
   "outputs": [],
   "source": [
    "r.area()"
   ]
  },
  {
   "cell_type": "code",
   "execution_count": null,
   "id": "b83fe279-96ae-404e-af32-5c10a3750994",
   "metadata": {},
   "outputs": [],
   "source": [
    "print(r)"
   ]
  },
  {
   "cell_type": "code",
   "execution_count": null,
   "id": "83a69484-96bc-46b7-9ed5-cee76de4a335",
   "metadata": {},
   "outputs": [],
   "source": [
    "c = Square(3)"
   ]
  },
  {
   "cell_type": "code",
   "execution_count": null,
   "id": "df3647d1-59bb-4041-8f28-fcbd29bd568d",
   "metadata": {},
   "outputs": [],
   "source": [
    "c.area()"
   ]
  },
  {
   "cell_type": "code",
   "execution_count": null,
   "id": "6a014883-44b0-4be9-8121-72f65b830c67",
   "metadata": {},
   "outputs": [],
   "source": [
    "c.perimeter()"
   ]
  },
  {
   "cell_type": "code",
   "execution_count": null,
   "id": "1494cd07-ee08-4e1e-9968-b43bcb8a98ae",
   "metadata": {},
   "outputs": [],
   "source": [
    "c"
   ]
  },
  {
   "cell_type": "code",
   "execution_count": null,
   "id": "1b19f759-be1b-4b28-92fd-75756bc2256e",
   "metadata": {},
   "outputs": [],
   "source": [
    "repr(c)"
   ]
  },
  {
   "cell_type": "code",
   "execution_count": null,
   "id": "ff83ddba-9f40-4860-8237-959ef3ead872",
   "metadata": {},
   "outputs": [],
   "source": [
    "print(c)"
   ]
  },
  {
   "cell_type": "markdown",
   "id": "ad4c49bf-f88e-447d-848d-5c02460eef2c",
   "metadata": {},
   "source": [
    "## Círculos y Triángulos"
   ]
  },
  {
   "cell_type": "code",
   "execution_count": null,
   "id": "8bbbed78-f917-45db-a77c-3944af8a693d",
   "metadata": {},
   "outputs": [],
   "source": [
    "from math import pi, sqrt"
   ]
  },
  {
   "cell_type": "code",
   "execution_count": null,
   "id": "92addcda-2038-45fc-a459-76cddb686c4d",
   "metadata": {},
   "outputs": [],
   "source": [
    "class Circle(Shape):\n",
    "    # Initialize the Circle object with a given radius\n",
    "    def __init__(self, radius):\n",
    "        self.radius = radius\n",
    "\n",
    "    # Calculate and return the area of the circle using the formula: π * r^2\n",
    "    def area(self):\n",
    "        return pi * self.radius**2\n",
    "\n",
    "    # Calculate and return the perimeter of the circle using the formula: 2π * r\n",
    "    def perimeter(self):\n",
    "        return 2 * pi * self.radius\n",
    "    \n",
    "    def __repr__(self):\n",
    "        return f'Circle({self.radius})'\n",
    "\n",
    "    def __str__(self):\n",
    "        r0 = self.radius\n",
    "        r1, r2 = self.area(), self.perimeter()\n",
    "        return \"Circle({0},{1} u^2,{2} u)\".format(r0,r1,r2)\n"
   ]
  },
  {
   "cell_type": "code",
   "execution_count": null,
   "id": "50bdd651-d522-4609-b1a5-a29ab2cedfa0",
   "metadata": {},
   "outputs": [],
   "source": [
    "r = 7"
   ]
  },
  {
   "cell_type": "code",
   "execution_count": null,
   "id": "09fea1f4-0256-440a-aee6-42bd34dc2dc0",
   "metadata": {},
   "outputs": [],
   "source": [
    "circle = Circle(r)"
   ]
  },
  {
   "cell_type": "code",
   "execution_count": null,
   "id": "4a403f6b-a483-4ae3-9cc2-ff0662ed4fc2",
   "metadata": {},
   "outputs": [],
   "source": [
    "circle"
   ]
  },
  {
   "cell_type": "code",
   "execution_count": null,
   "id": "eb56d67a-dc3c-4bf8-9b0b-54755406021e",
   "metadata": {},
   "outputs": [],
   "source": [
    "circle.area()"
   ]
  },
  {
   "cell_type": "code",
   "execution_count": null,
   "id": "ce45b353-e964-486b-813c-df4aef97e132",
   "metadata": {},
   "outputs": [],
   "source": [
    "circle.perimeter()"
   ]
  },
  {
   "cell_type": "code",
   "execution_count": null,
   "id": "6dda5795-019c-4c70-8149-9cd4a2a6a5ae",
   "metadata": {},
   "outputs": [],
   "source": [
    "print(circle)"
   ]
  },
  {
   "cell_type": "code",
   "execution_count": null,
   "id": "497c8da4-8d69-4e63-b014-b3fd03082277",
   "metadata": {},
   "outputs": [],
   "source": [
    "class Triangle(Shape):\n",
    "    \"\"\"\n",
    "    Clase de los triángulo para la formación de los mismos, \n",
    "    de ser posible, y la obtención de su área y perímetro.\n",
    "    \"\"\"\n",
    "    # decides whether a triad of numbers forms a triangle or not\n",
    "    def _es_triangulo(self,a,b,c):\n",
    "        lst = [a,b,c]\n",
    "        lst.sort()\n",
    "        longer = lst.pop()\n",
    "        return sum(lst) > longer\n",
    "\n",
    "    # Calculates the semi-perimeter of a triangle\n",
    "    def _semiperimeter(self):\n",
    "        return (self.side1 + self.side2 + self.side3) / 2\n",
    "        \n",
    "    # Initialize the Triangle object with three side lengths if possible\n",
    "    def __init__(self, side1, side2, side3):\n",
    "        if self._es_triangulo(side1,side2,side3):\n",
    "            self.side1 = side1\n",
    "            self.side2 = side2\n",
    "            self.side3 = side3\n",
    "        else: \n",
    "            self.side1, self.side2, self.side3 = 0, 0, 0\n",
    "\n",
    "    # Calculate and return the area of the triangle using the Heron's formula\n",
    "    def area(self):\n",
    "        sp1, sp2, sp3 = self.side1, self.side2, self.side3\n",
    "        sp = self._semiperimeter()\n",
    "        return sqrt(sp*(sp-sp1)*(sp-sp2)*(sp-sp3))\n",
    "    \n",
    "    # Calculate and return the perimeter of the triangle by adding the lengths of its three sides\n",
    "    def perimeter(self):\n",
    "        return self.side1 + self.side2 + self.side3\n",
    "\n",
    "    def __repr__(self):\n",
    "        return f'Triangle({self.side1},{self.side2},{self.side3})'\n",
    "\n",
    "    def __str__(self):\n",
    "        s0,s1,s2 = self.side1, self.side2, self.side3\n",
    "        s3, s4 = self.area(), self.perimeter()\n",
    "        return \"T({0},{1},{2},{3} u^2,{4} u)\".format(s0,s1,s2,s3,s4)"
   ]
  },
  {
   "cell_type": "markdown",
   "id": "80a6e034-1ed0-42d7-b1bb-b81541df656c",
   "metadata": {},
   "source": [
    "El siguiente ejemplo es un ejemplo no \"sano\" de triángulo, de hecho no determina un triángulo y todo lo esperable de él va a fracasar, siendo presentados valores absurdos. Incluso pudimos optar por dar la voz de alarma más sonoramente con él haciendo que fuesen elevados errores, que habríamos de capturar constantemente por mor de que no se viese frustrado el flujo del programa."
   ]
  },
  {
   "cell_type": "code",
   "execution_count": null,
   "id": "cfc58451-64fe-4a1d-bdc3-439bb05c5f4a",
   "metadata": {},
   "outputs": [],
   "source": [
    "c = Triangle(1,2,3)"
   ]
  },
  {
   "cell_type": "code",
   "execution_count": null,
   "id": "aa2ea9ad-3880-4199-9db7-ec414b703f34",
   "metadata": {},
   "outputs": [],
   "source": [
    "print(c)"
   ]
  },
  {
   "cell_type": "code",
   "execution_count": null,
   "id": "b9c05708-78d4-4619-ada1-d9b279513c06",
   "metadata": {},
   "outputs": [],
   "source": [
    "c.side1"
   ]
  },
  {
   "cell_type": "code",
   "execution_count": null,
   "id": "2a264acb-598d-4abb-a783-2c8dbb0d8c4b",
   "metadata": {},
   "outputs": [],
   "source": [
    "c.area()"
   ]
  },
  {
   "cell_type": "code",
   "execution_count": null,
   "id": "eea04b86-21d0-47c2-b5e0-02cc3b6703f6",
   "metadata": {},
   "outputs": [],
   "source": [
    "c.perimeter()"
   ]
  },
  {
   "cell_type": "markdown",
   "id": "d2eeb8b9-ee4d-4c9d-b7a8-881e9cecb464",
   "metadata": {},
   "source": [
    "Sin embargo, el siguiente sí es un triángulo \"sano\"."
   ]
  },
  {
   "cell_type": "code",
   "execution_count": null,
   "id": "2c3de237-ffac-466b-960e-eadf64f6fd0c",
   "metadata": {},
   "outputs": [],
   "source": [
    "d = Triangle (2,2,3)"
   ]
  },
  {
   "cell_type": "code",
   "execution_count": null,
   "id": "f313640c-4fcc-40db-bf63-ab99af403456",
   "metadata": {},
   "outputs": [],
   "source": [
    "d"
   ]
  },
  {
   "cell_type": "code",
   "execution_count": null,
   "id": "43772374-abfc-47a3-9cd1-97e250f27dec",
   "metadata": {},
   "outputs": [],
   "source": [
    "repr(d)"
   ]
  },
  {
   "cell_type": "code",
   "execution_count": null,
   "id": "a2300f65-4807-454b-90b9-99336cd7eeb3",
   "metadata": {},
   "outputs": [],
   "source": [
    "d.side3"
   ]
  },
  {
   "cell_type": "code",
   "execution_count": null,
   "id": "cec7395a-35c1-49e5-b12a-b873133eba49",
   "metadata": {},
   "outputs": [],
   "source": [
    "d.perimeter()"
   ]
  },
  {
   "cell_type": "code",
   "execution_count": null,
   "id": "d8112834-cafa-433b-a70e-b7f5df758ce1",
   "metadata": {},
   "outputs": [],
   "source": [
    "d._semiperimeter()"
   ]
  },
  {
   "cell_type": "code",
   "execution_count": null,
   "id": "42d30af7-7421-4d54-b1a7-127c5b14228d",
   "metadata": {},
   "outputs": [],
   "source": [
    "d.area()"
   ]
  },
  {
   "cell_type": "code",
   "execution_count": null,
   "id": "84d4a4f0-9dcc-4d18-8597-5db9899da569",
   "metadata": {},
   "outputs": [],
   "source": [
    "print(d)"
   ]
  },
  {
   "cell_type": "code",
   "execution_count": null,
   "id": "f6d5042c-e32d-4f74-adb1-17ca6bc885bd",
   "metadata": {},
   "outputs": [],
   "source": [
    "print(repr(d))"
   ]
  },
  {
   "cell_type": "markdown",
   "id": "00e3f9c8-3c25-4ea6-9e2e-2b6727372931",
   "metadata": {},
   "source": [
    "La programación orientada a objeto es un puntal esencial en el reciclado de código, facilitando sumamente la programación; esto es ilustrado de forma meridiana con el siguiente retazo de código."
   ]
  },
  {
   "cell_type": "code",
   "execution_count": null,
   "id": "bf3eaad6-6469-4716-985e-86f0ff754c6d",
   "metadata": {},
   "outputs": [],
   "source": [
    "class Equilateral_Triangle(Triangle):\n",
    "    \"\"\"\n",
    "    Clase Equilateral_Triangle para definir y utilizar triángulos equiláteros\n",
    "    \"\"\"\n",
    "    def __init__(self, side):\n",
    "        if self._es_triangulo(side,side,side):\n",
    "            self.side1 = side\n",
    "            self.side2 = side\n",
    "            self.side3 = side\n",
    "        else: \n",
    "            self.side1, self.side2, self.side3 = 0, 0, 0"
   ]
  },
  {
   "cell_type": "code",
   "execution_count": null,
   "id": "0734f54d-d040-4aec-9105-94dbbb3df4ea",
   "metadata": {},
   "outputs": [],
   "source": [
    "et = Equilateral_Triangle(3)"
   ]
  },
  {
   "cell_type": "code",
   "execution_count": null,
   "id": "14e12172-5c2e-4e2a-96ee-d9d536c5ac69",
   "metadata": {},
   "outputs": [],
   "source": [
    "repr(et)"
   ]
  },
  {
   "cell_type": "code",
   "execution_count": null,
   "id": "50bed4db-c06f-4e43-8ba0-a40318fb4c98",
   "metadata": {},
   "outputs": [],
   "source": [
    "print(et)"
   ]
  },
  {
   "cell_type": "markdown",
   "id": "c355c52f-4fd6-4f1b-9588-acd9fe983621",
   "metadata": {},
   "source": [
    "Con este código todo sigue funcionando correctamente, incluso el filtro para determinar que un supuesto triángulo no lo es."
   ]
  },
  {
   "cell_type": "code",
   "execution_count": null,
   "id": "f648eb61-0905-4fc1-bc7f-3a6778a4595f",
   "metadata": {},
   "outputs": [],
   "source": [
    "etn = Equilateral_Triangle(0)"
   ]
  },
  {
   "cell_type": "code",
   "execution_count": null,
   "id": "f46bc65a-da30-4ffc-8984-03edb59b15fa",
   "metadata": {},
   "outputs": [],
   "source": [
    "repr(etn)"
   ]
  },
  {
   "cell_type": "code",
   "execution_count": null,
   "id": "92c60000-2aee-46d5-b7a1-e10fd43006f2",
   "metadata": {},
   "outputs": [],
   "source": [
    "print(etn)"
   ]
  },
  {
   "cell_type": "markdown",
   "id": "1e4a48d6-052a-4e3b-b4a2-d069574effe8",
   "metadata": {},
   "source": [
    "## Propiedad del Diamante o Herencia Múltiple (método clásico)"
   ]
  },
  {
   "cell_type": "code",
   "execution_count": null,
   "id": "49cf7d6b-57f8-4fdd-a5e4-c6d7d946d29a",
   "metadata": {},
   "outputs": [],
   "source": [
    "class Cone(Triangle,Circle):\n",
    "    \"\"\"\n",
    "    Clase Cone para definir y utilizar ramas de cono truncadas \n",
    "    por un plano horizontal.\n",
    "    \"\"\"\n",
    "    \n",
    "    def _pitagoras(self,side1,side2):\n",
    "        return sqrt(side1**2+side2**2)\n",
    "    \n",
    "    def __init__(self,radius, height):\n",
    "         generatrix = self._pitagoras(radius,height)\n",
    "         Triangle.__init__(self,radius, height, generatrix)\n",
    "         Circle.__init__(self,radius)\n",
    "\n",
    "    def lateral_area(self):\n",
    "        return pi * self.radius * self.side3\n",
    "\n",
    "    def total_area(self):\n",
    "        return self.lateral_area() + Circle.area(self)\n",
    "\n",
    "    def volume (self):\n",
    "        return Circle.area(self) * self.side2 / 3\n",
    "\n",
    "    def __repr__(self):\n",
    "        return f'Cone({self.radius},{self.side2})'\n",
    "\n",
    "    def __str__(self):\n",
    "           return Circle.__str__(self) + \", \" + Triangle.__str__(self)"
   ]
  },
  {
   "cell_type": "code",
   "execution_count": null,
   "id": "ce790fb7-f7d6-4a87-8964-61f4043b787d",
   "metadata": {},
   "outputs": [],
   "source": [
    "cono1 = Cone(4,3)"
   ]
  },
  {
   "cell_type": "code",
   "execution_count": null,
   "id": "58331817-8c06-4c53-b9af-a8fab57e3b9d",
   "metadata": {},
   "outputs": [],
   "source": [
    "cono1"
   ]
  },
  {
   "cell_type": "code",
   "execution_count": null,
   "id": "c798ccaf-098c-4ebe-979e-bf8420d35548",
   "metadata": {},
   "outputs": [],
   "source": [
    "cono1.lateral_area()"
   ]
  },
  {
   "cell_type": "code",
   "execution_count": null,
   "id": "76942dbf-f1bd-4cc7-81d6-03cbbe8bde16",
   "metadata": {},
   "outputs": [],
   "source": [
    "cono1.total_area()"
   ]
  },
  {
   "cell_type": "code",
   "execution_count": null,
   "id": "dd68a36f-55e8-4cfd-a003-62dd32095f00",
   "metadata": {},
   "outputs": [],
   "source": [
    "cono1.volume()"
   ]
  },
  {
   "cell_type": "code",
   "execution_count": null,
   "id": "20aba1ad-a842-40fe-aea7-940f0d1c677b",
   "metadata": {},
   "outputs": [],
   "source": [
    "cono2 = Cone(8,18)"
   ]
  },
  {
   "cell_type": "code",
   "execution_count": null,
   "id": "7423b48a-8e27-4f67-9f6f-4d02c2ebaeae",
   "metadata": {},
   "outputs": [],
   "source": [
    "cono2.volume()"
   ]
  },
  {
   "cell_type": "code",
   "execution_count": null,
   "id": "02696ef2-41ca-483b-b2fb-df8923f5efad",
   "metadata": {},
   "outputs": [],
   "source": [
    "cono1"
   ]
  },
  {
   "cell_type": "code",
   "execution_count": null,
   "id": "e76ada00-e3bb-41aa-b93a-61f5c8844421",
   "metadata": {},
   "outputs": [],
   "source": [
    "print(cono1)"
   ]
  },
  {
   "cell_type": "code",
   "execution_count": null,
   "id": "4985d933-3575-490f-a9ca-45dc3948e5a1",
   "metadata": {},
   "outputs": [],
   "source": [
    "cono2"
   ]
  },
  {
   "cell_type": "code",
   "execution_count": null,
   "id": "e2a372a3-1910-4732-8288-b86da16d56e0",
   "metadata": {},
   "outputs": [],
   "source": [
    "print(cono2)"
   ]
  },
  {
   "cell_type": "markdown",
   "id": "46a441cc-f454-4aee-864a-ccef1f0966d7",
   "metadata": {},
   "source": [
    "## Obtención de Información sobre Clases"
   ]
  },
  {
   "cell_type": "code",
   "execution_count": null,
   "id": "6e3b2a80-e7a6-4411-a0fa-41adc8fcb954",
   "metadata": {},
   "outputs": [],
   "source": [
    "Cone.__name__"
   ]
  },
  {
   "cell_type": "code",
   "execution_count": null,
   "id": "8be22af9-67a1-4648-ae71-38791af0f175",
   "metadata": {},
   "outputs": [],
   "source": [
    "Cone.__doc__"
   ]
  },
  {
   "cell_type": "code",
   "execution_count": null,
   "id": "7f6de93b-5ac5-4c87-b1fd-7c2c58367666",
   "metadata": {},
   "outputs": [],
   "source": [
    "print(Cone.__doc__)"
   ]
  },
  {
   "cell_type": "code",
   "execution_count": null,
   "id": "aadf23dc-a6da-4add-8145-9d18a474d01a",
   "metadata": {},
   "outputs": [],
   "source": [
    "dir(Cone)"
   ]
  },
  {
   "cell_type": "code",
   "execution_count": null,
   "id": "5690e187-dc11-464f-bea7-6e78bc4594fe",
   "metadata": {},
   "outputs": [],
   "source": [
    "Cone.__dict__"
   ]
  },
  {
   "cell_type": "code",
   "execution_count": null,
   "id": "1c54cb43-5c31-4024-b6b4-7cc680b11e5b",
   "metadata": {},
   "outputs": [],
   "source": [
    "Cone.__module__"
   ]
  },
  {
   "cell_type": "code",
   "execution_count": null,
   "id": "de086cc8-6fb0-464b-af79-f3c8c42a29cc",
   "metadata": {},
   "outputs": [],
   "source": [
    "Cone.__bases__"
   ]
  },
  {
   "cell_type": "code",
   "execution_count": null,
   "id": "cd136613-1c56-484e-a069-a57b57ae8ae3",
   "metadata": {},
   "outputs": [],
   "source": [
    "print(\"MRO:\", Cone.__mro__)"
   ]
  },
  {
   "cell_type": "markdown",
   "id": "c2197ec5-54c4-4729-9094-33838332597e",
   "metadata": {},
   "source": [
    "## Ejercicios"
   ]
  },
  {
   "cell_type": "markdown",
   "id": "86104479-0576-4f70-960b-5d2e1f36c301",
   "metadata": {},
   "source": [
    "1. Escribar el código para una clase que simule con plena funcionalidad el comportamiento de los números racionales."
   ]
  },
  {
   "cell_type": "markdown",
   "id": "c85a3ed3-071b-4801-bfca-34cd234216f6",
   "metadata": {},
   "source": [
    "## Bibliografía y Enlaces de Interés"
   ]
  },
  {
   "cell_type": "markdown",
   "id": "4eb6568d-b6da-44ae-9ffe-0295eab80a16",
   "metadata": {},
   "source": [
    "Para ampliar esta información puede consultar:\n",
    "\n",
    "* [abc — Abstract Base Classes](https://docs.python.org/es/3.13/library/abc.html#abc.abstractmethod)\n",
    "* [Calling parent class __init__ with multiple inheritance, what's the right way?](https://stackoverflow.com/questions/9575409/calling-parent-class-init-with-multiple-inheritance-whats-the-right-way)\n",
    "* [Decoradores en Python: ¿Qué son y cómo funcionan?](https://www.programaenpython.com/avanzado/decoradores-en-python/)\n",
    "* [OOPs Concepts in Python](https://www.geekster.in/articles/oops-concepts-in-python/)\n",
    "* [Python Object-Oriented Programming](https://www.w3resource.com/python-exercises/oop/python-oop-exercise-4.php)\n",
    "* [Python `Super()` With `__Init__()` Method](https://www.geeksforgeeks.org/python-super-with-__init__-method/)\n",
    "* Ramalho, L.; [Fluent Python](https://github.com/WeitaoZhu/Python/blob/master/Fluent.Python.2nd.Edition.(z-lib.org).pdf). O'Really, 2015.\n",
    "* Sweigart, A.; [Automate the Boring Stuff with Python](https://automatetheboringstuff.com/). No Starch Press, [2015](https://archive.org/details/Automate-Boring-Stuff-Python-2nd/page/n7/mode/2up).\n",
    "* [Understanding Python `super()` with `__init__()` methods](https://stackoverflow.com/questions/576169/understanding-python-super-with-init-methods)"
   ]
  }
 ],
 "metadata": {
  "kernelspec": {
   "display_name": "Python 3 (ipykernel)",
   "language": "python",
   "name": "python3"
  },
  "language_info": {
   "codemirror_mode": {
    "name": "ipython",
    "version": 3
   },
   "file_extension": ".py",
   "mimetype": "text/x-python",
   "name": "python",
   "nbconvert_exporter": "python",
   "pygments_lexer": "ipython3",
   "version": "3.11.1"
  }
 },
 "nbformat": 4,
 "nbformat_minor": 5
}
